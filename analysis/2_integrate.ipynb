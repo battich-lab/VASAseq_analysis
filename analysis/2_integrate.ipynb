{
 "cells": [
  {
   "cell_type": "code",
   "execution_count": 17,
   "metadata": {},
   "outputs": [],
   "source": [
    "import warnings\n",
    "\n",
    "# Ignore future warnings\n",
    "warnings.filterwarnings(\"ignore\")\n",
    "\n",
    "import os\n",
    "import pandas as pd\n",
    "import scanpy as sc\n",
    "import scvi\n",
    "import scib\n",
    "from tqdm import tqdm\n",
    "\n",
    "# Set global matplotlib figure size\n",
    "import matplotlib.pyplot as plt\n",
    "plt.rcParams['figure.figsize'] = [8, 8]\n",
    "\n",
    "# Ignore future warnings\n",
    "warnings.filterwarnings(\"ignore\")"
   ]
  },
  {
   "cell_type": "code",
   "execution_count": 21,
   "metadata": {},
   "outputs": [],
   "source": [
    "outdir = \"figures/integration\"\n",
    "os.makedirs(outdir, exist_ok=True)"
   ]
  },
  {
   "cell_type": "code",
   "execution_count": 22,
   "metadata": {},
   "outputs": [
    {
     "data": {
      "text/plain": [
       "AnnData object with n_obs × n_vars = 8342 × 27545\n",
       "    obs: 'sample', 'sample_type', 'barcode', 'well_position', 'well_row', 'well_column', 'cell_type', 'n_genes_by_counts', 'log1p_n_genes_by_counts', 'total_counts', 'log1p_total_counts', 'pct_counts_in_top_50_genes', 'pct_counts_in_top_100_genes', 'pct_counts_in_top_200_genes', 'pct_counts_in_top_500_genes', 'total_counts_mt', 'log1p_total_counts_mt', 'pct_counts_mt', 'total_counts_rRNA', 'log1p_total_counts_rRNA', 'pct_counts_rRNA', 'total_counts_lncRNA', 'log1p_total_counts_lncRNA', 'pct_counts_lncRNA', 'n_genes', 'doublet_score', 'predicted_doublet', 'sample_group', 'facs_day'\n",
       "    var: 'gene_ids', 'feature_types', 'gene_symbol', 'gene_versions', 'gene_type', 'mt', 'rRNA', 'lncRNA', 'n_cells_by_counts', 'mean_counts', 'log1p_mean_counts', 'pct_dropout_by_counts', 'total_counts', 'log1p_total_counts', 'n_cells'\n",
       "    uns: 'log1p', 'scrublet'\n",
       "    layers: 'ambiguous', 'count', 'log1p', 'spliced', 'unspliced'"
      ]
     },
     "execution_count": 22,
     "metadata": {},
     "output_type": "execute_result"
    }
   ],
   "source": [
    "adata = sc.read_h5ad(\"1_qc.h5ad\")\n",
    "adata"
   ]
  },
  {
   "cell_type": "code",
   "execution_count": 20,
   "metadata": {},
   "outputs": [
    {
     "data": {
      "text/plain": [
       "AnnData object with n_obs × n_vars = 8342 × 1\n",
       "    obs: 'sample', 'sample_type', 'barcode', 'well_position', 'well_row', 'well_column', 'cell_type', 'n_genes_by_counts', 'log1p_n_genes_by_counts', 'total_counts', 'log1p_total_counts', 'pct_counts_in_top_50_genes', 'pct_counts_in_top_100_genes', 'pct_counts_in_top_200_genes', 'pct_counts_in_top_500_genes', 'total_counts_mt', 'log1p_total_counts_mt', 'pct_counts_mt', 'total_counts_rRNA', 'log1p_total_counts_rRNA', 'pct_counts_rRNA', 'total_counts_lncRNA', 'log1p_total_counts_lncRNA', 'pct_counts_lncRNA', 'n_genes', 'doublet_score', 'predicted_doublet', 'sample_group', 'facs_day'\n",
       "    var: 'gene_ids', 'feature_types', 'gene_symbol', 'gene_versions', 'gene_type', 'mt', 'rRNA', 'lncRNA', 'n_cells_by_counts', 'mean_counts', 'log1p_mean_counts', 'pct_dropout_by_counts', 'total_counts', 'log1p_total_counts', 'n_cells'\n",
       "    uns: 'log1p', 'scrublet'\n",
       "    layers: 'ambiguous', 'count', 'log1p', 'spliced', 'unspliced'"
      ]
     },
     "execution_count": 20,
     "metadata": {},
     "output_type": "execute_result"
    }
   ],
   "source": [
    "adata = adata[:, adata.var[\"gene_type\"] == \"rRNA\"].copy()\n",
    "adata"
   ]
  },
  {
   "cell_type": "code",
   "execution_count": 23,
   "metadata": {},
   "outputs": [
    {
     "data": {
      "text/html": [
       "<div>\n",
       "<style scoped>\n",
       "    .dataframe tbody tr th:only-of-type {\n",
       "        vertical-align: middle;\n",
       "    }\n",
       "\n",
       "    .dataframe tbody tr th {\n",
       "        vertical-align: top;\n",
       "    }\n",
       "\n",
       "    .dataframe thead th {\n",
       "        text-align: right;\n",
       "    }\n",
       "</style>\n",
       "<table border=\"1\" class=\"dataframe\">\n",
       "  <thead>\n",
       "    <tr style=\"text-align: right;\">\n",
       "      <th></th>\n",
       "      <th>gene_ids</th>\n",
       "      <th>feature_types</th>\n",
       "      <th>gene_symbol</th>\n",
       "      <th>gene_versions</th>\n",
       "      <th>gene_type</th>\n",
       "      <th>mt</th>\n",
       "      <th>rRNA</th>\n",
       "      <th>lncRNA</th>\n",
       "      <th>n_cells_by_counts</th>\n",
       "      <th>mean_counts</th>\n",
       "      <th>log1p_mean_counts</th>\n",
       "      <th>pct_dropout_by_counts</th>\n",
       "      <th>total_counts</th>\n",
       "      <th>log1p_total_counts</th>\n",
       "      <th>n_cells</th>\n",
       "    </tr>\n",
       "    <tr>\n",
       "      <th>gene_name</th>\n",
       "      <th></th>\n",
       "      <th></th>\n",
       "      <th></th>\n",
       "      <th></th>\n",
       "      <th></th>\n",
       "      <th></th>\n",
       "      <th></th>\n",
       "      <th></th>\n",
       "      <th></th>\n",
       "      <th></th>\n",
       "      <th></th>\n",
       "      <th></th>\n",
       "      <th></th>\n",
       "      <th></th>\n",
       "      <th></th>\n",
       "    </tr>\n",
       "  </thead>\n",
       "  <tbody>\n",
       "    <tr>\n",
       "      <th>XKR4</th>\n",
       "      <td>ENSMUSG00000051951.6</td>\n",
       "      <td>Gene Expression</td>\n",
       "      <td>Xkr4</td>\n",
       "      <td>ENSMUSG00000051951.6</td>\n",
       "      <td>protein_coding</td>\n",
       "      <td>False</td>\n",
       "      <td>False</td>\n",
       "      <td>False</td>\n",
       "      <td>4</td>\n",
       "      <td>0.000434</td>\n",
       "      <td>0.000434</td>\n",
       "      <td>99.965278</td>\n",
       "      <td>5</td>\n",
       "      <td>1.791759</td>\n",
       "      <td>4</td>\n",
       "    </tr>\n",
       "    <tr>\n",
       "      <th>GM19938</th>\n",
       "      <td>ENSMUSG00000102331.2</td>\n",
       "      <td>Gene Expression</td>\n",
       "      <td>Gm19938</td>\n",
       "      <td>ENSMUSG00000102331.2</td>\n",
       "      <td>lncRNA</td>\n",
       "      <td>False</td>\n",
       "      <td>False</td>\n",
       "      <td>True</td>\n",
       "      <td>7</td>\n",
       "      <td>0.000608</td>\n",
       "      <td>0.000607</td>\n",
       "      <td>99.939236</td>\n",
       "      <td>7</td>\n",
       "      <td>2.079442</td>\n",
       "      <td>7</td>\n",
       "    </tr>\n",
       "    <tr>\n",
       "      <th>SOX17</th>\n",
       "      <td>ENSMUSG00000025902.14</td>\n",
       "      <td>Gene Expression</td>\n",
       "      <td>Sox17</td>\n",
       "      <td>ENSMUSG00000025902.14</td>\n",
       "      <td>protein_coding</td>\n",
       "      <td>False</td>\n",
       "      <td>False</td>\n",
       "      <td>False</td>\n",
       "      <td>9</td>\n",
       "      <td>0.000868</td>\n",
       "      <td>0.000868</td>\n",
       "      <td>99.921875</td>\n",
       "      <td>10</td>\n",
       "      <td>2.397895</td>\n",
       "      <td>9</td>\n",
       "    </tr>\n",
       "    <tr>\n",
       "      <th>GM37323</th>\n",
       "      <td>ENSMUSG00000104328.3</td>\n",
       "      <td>Gene Expression</td>\n",
       "      <td>Gm37323</td>\n",
       "      <td>ENSMUSG00000104328.3</td>\n",
       "      <td>lncRNA</td>\n",
       "      <td>False</td>\n",
       "      <td>False</td>\n",
       "      <td>True</td>\n",
       "      <td>4</td>\n",
       "      <td>0.000347</td>\n",
       "      <td>0.000347</td>\n",
       "      <td>99.965278</td>\n",
       "      <td>4</td>\n",
       "      <td>1.609438</td>\n",
       "      <td>4</td>\n",
       "    </tr>\n",
       "    <tr>\n",
       "      <th>GM6085</th>\n",
       "      <td>ENSMUSG00000098104.2</td>\n",
       "      <td>Gene Expression</td>\n",
       "      <td>Gm6085</td>\n",
       "      <td>ENSMUSG00000098104.2</td>\n",
       "      <td>processed_pseudogene</td>\n",
       "      <td>False</td>\n",
       "      <td>False</td>\n",
       "      <td>False</td>\n",
       "      <td>4</td>\n",
       "      <td>0.000347</td>\n",
       "      <td>0.000347</td>\n",
       "      <td>99.965278</td>\n",
       "      <td>4</td>\n",
       "      <td>1.609438</td>\n",
       "      <td>4</td>\n",
       "    </tr>\n",
       "    <tr>\n",
       "      <th>...</th>\n",
       "      <td>...</td>\n",
       "      <td>...</td>\n",
       "      <td>...</td>\n",
       "      <td>...</td>\n",
       "      <td>...</td>\n",
       "      <td>...</td>\n",
       "      <td>...</td>\n",
       "      <td>...</td>\n",
       "      <td>...</td>\n",
       "      <td>...</td>\n",
       "      <td>...</td>\n",
       "      <td>...</td>\n",
       "      <td>...</td>\n",
       "      <td>...</td>\n",
       "      <td>...</td>\n",
       "    </tr>\n",
       "    <tr>\n",
       "      <th>MT-ND4L</th>\n",
       "      <td>ENSMUSG00000065947.1</td>\n",
       "      <td>Gene Expression</td>\n",
       "      <td>mt-Nd4l</td>\n",
       "      <td>ENSMUSG00000065947.1</td>\n",
       "      <td>protein_coding</td>\n",
       "      <td>True</td>\n",
       "      <td>False</td>\n",
       "      <td>False</td>\n",
       "      <td>88</td>\n",
       "      <td>0.007812</td>\n",
       "      <td>0.007782</td>\n",
       "      <td>99.236111</td>\n",
       "      <td>90</td>\n",
       "      <td>4.510860</td>\n",
       "      <td>88</td>\n",
       "    </tr>\n",
       "    <tr>\n",
       "      <th>MT-ND4</th>\n",
       "      <td>ENSMUSG00000064363.1</td>\n",
       "      <td>Gene Expression</td>\n",
       "      <td>mt-Nd4</td>\n",
       "      <td>ENSMUSG00000064363.1</td>\n",
       "      <td>protein_coding</td>\n",
       "      <td>True</td>\n",
       "      <td>False</td>\n",
       "      <td>False</td>\n",
       "      <td>6871</td>\n",
       "      <td>3.477517</td>\n",
       "      <td>1.499069</td>\n",
       "      <td>40.355903</td>\n",
       "      <td>40061</td>\n",
       "      <td>10.598184</td>\n",
       "      <td>6871</td>\n",
       "    </tr>\n",
       "    <tr>\n",
       "      <th>MT-ND5</th>\n",
       "      <td>ENSMUSG00000064367.1</td>\n",
       "      <td>Gene Expression</td>\n",
       "      <td>mt-Nd5</td>\n",
       "      <td>ENSMUSG00000064367.1</td>\n",
       "      <td>protein_coding</td>\n",
       "      <td>True</td>\n",
       "      <td>False</td>\n",
       "      <td>False</td>\n",
       "      <td>7648</td>\n",
       "      <td>4.525608</td>\n",
       "      <td>1.709393</td>\n",
       "      <td>33.611111</td>\n",
       "      <td>52135</td>\n",
       "      <td>10.861611</td>\n",
       "      <td>7648</td>\n",
       "    </tr>\n",
       "    <tr>\n",
       "      <th>MT-ND6</th>\n",
       "      <td>ENSMUSG00000064368.1</td>\n",
       "      <td>Gene Expression</td>\n",
       "      <td>mt-Nd6</td>\n",
       "      <td>ENSMUSG00000064368.1</td>\n",
       "      <td>protein_coding</td>\n",
       "      <td>True</td>\n",
       "      <td>False</td>\n",
       "      <td>False</td>\n",
       "      <td>3156</td>\n",
       "      <td>0.674653</td>\n",
       "      <td>0.515606</td>\n",
       "      <td>72.604167</td>\n",
       "      <td>7772</td>\n",
       "      <td>8.958411</td>\n",
       "      <td>3156</td>\n",
       "    </tr>\n",
       "    <tr>\n",
       "      <th>MT-CYTB</th>\n",
       "      <td>ENSMUSG00000064370.1</td>\n",
       "      <td>Gene Expression</td>\n",
       "      <td>mt-Cytb</td>\n",
       "      <td>ENSMUSG00000064370.1</td>\n",
       "      <td>protein_coding</td>\n",
       "      <td>True</td>\n",
       "      <td>False</td>\n",
       "      <td>False</td>\n",
       "      <td>8577</td>\n",
       "      <td>8.091406</td>\n",
       "      <td>2.207330</td>\n",
       "      <td>25.546875</td>\n",
       "      <td>93213</td>\n",
       "      <td>11.442653</td>\n",
       "      <td>8577</td>\n",
       "    </tr>\n",
       "  </tbody>\n",
       "</table>\n",
       "<p>27545 rows × 15 columns</p>\n",
       "</div>"
      ],
      "text/plain": [
       "                        gene_ids    feature_types gene_symbol  \\\n",
       "gene_name                                                       \n",
       "XKR4        ENSMUSG00000051951.6  Gene Expression        Xkr4   \n",
       "GM19938     ENSMUSG00000102331.2  Gene Expression     Gm19938   \n",
       "SOX17      ENSMUSG00000025902.14  Gene Expression       Sox17   \n",
       "GM37323     ENSMUSG00000104328.3  Gene Expression     Gm37323   \n",
       "GM6085      ENSMUSG00000098104.2  Gene Expression      Gm6085   \n",
       "...                          ...              ...         ...   \n",
       "MT-ND4L     ENSMUSG00000065947.1  Gene Expression     mt-Nd4l   \n",
       "MT-ND4      ENSMUSG00000064363.1  Gene Expression      mt-Nd4   \n",
       "MT-ND5      ENSMUSG00000064367.1  Gene Expression      mt-Nd5   \n",
       "MT-ND6      ENSMUSG00000064368.1  Gene Expression      mt-Nd6   \n",
       "MT-CYTB     ENSMUSG00000064370.1  Gene Expression     mt-Cytb   \n",
       "\n",
       "                   gene_versions             gene_type     mt   rRNA  lncRNA  \\\n",
       "gene_name                                                                      \n",
       "XKR4        ENSMUSG00000051951.6        protein_coding  False  False   False   \n",
       "GM19938     ENSMUSG00000102331.2                lncRNA  False  False    True   \n",
       "SOX17      ENSMUSG00000025902.14        protein_coding  False  False   False   \n",
       "GM37323     ENSMUSG00000104328.3                lncRNA  False  False    True   \n",
       "GM6085      ENSMUSG00000098104.2  processed_pseudogene  False  False   False   \n",
       "...                          ...                   ...    ...    ...     ...   \n",
       "MT-ND4L     ENSMUSG00000065947.1        protein_coding   True  False   False   \n",
       "MT-ND4      ENSMUSG00000064363.1        protein_coding   True  False   False   \n",
       "MT-ND5      ENSMUSG00000064367.1        protein_coding   True  False   False   \n",
       "MT-ND6      ENSMUSG00000064368.1        protein_coding   True  False   False   \n",
       "MT-CYTB     ENSMUSG00000064370.1        protein_coding   True  False   False   \n",
       "\n",
       "           n_cells_by_counts  mean_counts  log1p_mean_counts  \\\n",
       "gene_name                                                      \n",
       "XKR4                       4     0.000434           0.000434   \n",
       "GM19938                    7     0.000608           0.000607   \n",
       "SOX17                      9     0.000868           0.000868   \n",
       "GM37323                    4     0.000347           0.000347   \n",
       "GM6085                     4     0.000347           0.000347   \n",
       "...                      ...          ...                ...   \n",
       "MT-ND4L                   88     0.007812           0.007782   \n",
       "MT-ND4                  6871     3.477517           1.499069   \n",
       "MT-ND5                  7648     4.525608           1.709393   \n",
       "MT-ND6                  3156     0.674653           0.515606   \n",
       "MT-CYTB                 8577     8.091406           2.207330   \n",
       "\n",
       "           pct_dropout_by_counts  total_counts  log1p_total_counts  n_cells  \n",
       "gene_name                                                                    \n",
       "XKR4                   99.965278             5            1.791759        4  \n",
       "GM19938                99.939236             7            2.079442        7  \n",
       "SOX17                  99.921875            10            2.397895        9  \n",
       "GM37323                99.965278             4            1.609438        4  \n",
       "GM6085                 99.965278             4            1.609438        4  \n",
       "...                          ...           ...                 ...      ...  \n",
       "MT-ND4L                99.236111            90            4.510860       88  \n",
       "MT-ND4                 40.355903         40061           10.598184     6871  \n",
       "MT-ND5                 33.611111         52135           10.861611     7648  \n",
       "MT-ND6                 72.604167          7772            8.958411     3156  \n",
       "MT-CYTB                25.546875         93213           11.442653     8577  \n",
       "\n",
       "[27545 rows x 15 columns]"
      ]
     },
     "execution_count": 23,
     "metadata": {},
     "output_type": "execute_result"
    }
   ],
   "source": [
    "adata.var"
   ]
  },
  {
   "cell_type": "code",
   "execution_count": 24,
   "metadata": {},
   "outputs": [],
   "source": [
    "# Specify which colorings to use for plotting\n",
    "umap_colorings = [\n",
    "    \"sample\",\n",
    "    \"cell_type\",\n",
    "    \"facs_day\"\n",
    "]"
   ]
  },
  {
   "cell_type": "markdown",
   "metadata": {},
   "source": [
    "# Data preparation"
   ]
  },
  {
   "cell_type": "code",
   "execution_count": 25,
   "metadata": {},
   "outputs": [],
   "source": [
    "# For now, we ignore RR cells\n",
    "# They have a different gene expression profile\n",
    "# Not sure how to deal with them yet (and what we want to learn from them)\n",
    "adata = adata[adata.obs[\"sample_group\"].notnull()].copy()\n",
    "sample_types = adata.obs[\"sample_type\"].unique()\n",
    "\n",
    "type_adata = {\n",
    "    sample_type: adata[adata.obs[\"sample_type\"] == sample_type].copy()\n",
    "    for sample_type in sample_types\n",
    "}\n",
    "\n",
    "type_hvg = {}\n",
    "\n",
    "for sample_type, adata in type_adata.items():\n",
    "    sc.pp.highly_variable_genes(adata, n_top_genes=5000, batch_key=\"sample\", layer=\"log1p\")\n",
    "    type_hvg[sample_type] = adata[:, adata.var.highly_variable].copy()"
   ]
  },
  {
   "cell_type": "markdown",
   "metadata": {},
   "source": [
    "## Looking at the uncorrected data distributions"
   ]
  },
  {
   "cell_type": "code",
   "execution_count": 26,
   "metadata": {},
   "outputs": [
    {
     "name": "stderr",
     "output_type": "stream",
     "text": [
      "100%|██████████| 2/2 [00:10<00:00,  5.04s/it]\n"
     ]
    }
   ],
   "source": [
    "unintegrated_dir = os.path.join(outdir, \"unintegrated\")\n",
    "for sample_type, adata in tqdm(type_adata.items()):\n",
    "    sample_dir = os.path.join(unintegrated_dir, sample_type)\n",
    "    os.makedirs(sample_dir, exist_ok=True)\n",
    "    sc.pp.pca(adata, n_comps=50, layer=\"log1p\")\n",
    "    sc.pp.neighbors(adata)\n",
    "    sc.tl.umap(adata)\n",
    "    for coloring in umap_colorings:\n",
    "        fig, ax = plt.subplots()\n",
    "        sc.pl.umap(adata, color=coloring, title=f\"Uncorrected {sample_type}\", ax=ax, show=False)\n",
    "        fig.tight_layout()\n",
    "        fig.savefig(os.path.join(sample_dir, f\"umap_{coloring}.png\"))\n",
    "        plt.close(fig)"
   ]
  },
  {
   "cell_type": "markdown",
   "metadata": {},
   "source": [
    "We can see that the samples form clusters in the UMAP. This indicates that the batch effects are not negligible.\n",
    "We can also see that the cell types separate in the UMAP. \n",
    "Biological signal and batch effects appear to be of similar strength in this data."
   ]
  },
  {
   "cell_type": "markdown",
   "metadata": {},
   "source": [
    "# Integration\n",
    "\n",
    "Batch correction is referred to as integration in the single-cell literature. This is, because the count matrices are too large for performing actual batch correction. Instead, the data is integrated into a lower-dimensional space, where the batch effects are removed."
   ]
  },
  {
   "cell_type": "markdown",
   "metadata": {},
   "source": [
    "## scVI\n",
    "\n",
    "scVI uses a variational Autoencoder to integrate the data. The encoder learns a lower-dimensional representation of the data, while the decoder learns to reconstruct the data from this representation."
   ]
  },
  {
   "cell_type": "code",
   "execution_count": 27,
   "metadata": {},
   "outputs": [
    {
     "name": "stderr",
     "output_type": "stream",
     "text": [
      "  0%|          | 0/2 [00:00<?, ?it/s]GPU available: True (mps), used: False\n",
      "TPU available: False, using: 0 TPU cores\n",
      "HPU available: False, using: 0 HPUs\n"
     ]
    },
    {
     "name": "stdout",
     "output_type": "stream",
     "text": [
      "Running scVI for rr_incl\n",
      "Epoch 400/400: 100%|██████████| 400/400 [03:52<00:00,  1.59it/s, v_num=1, train_loss_step=1.35e+3, train_loss_epoch=1.47e+3]"
     ]
    },
    {
     "name": "stderr",
     "output_type": "stream",
     "text": [
      "`Trainer.fit` stopped: `max_epochs=400` reached.\n"
     ]
    },
    {
     "name": "stdout",
     "output_type": "stream",
     "text": [
      "Epoch 400/400: 100%|██████████| 400/400 [03:52<00:00,  1.72it/s, v_num=1, train_loss_step=1.35e+3, train_loss_epoch=1.47e+3]\n"
     ]
    },
    {
     "name": "stderr",
     "output_type": "stream",
     "text": [
      " 50%|█████     | 1/2 [03:56<03:56, 236.67s/it]GPU available: True (mps), used: False\n",
      "TPU available: False, using: 0 TPU cores\n",
      "HPU available: False, using: 0 HPUs\n"
     ]
    },
    {
     "name": "stdout",
     "output_type": "stream",
     "text": [
      "Running scVI for rr_depl\n",
      "Epoch 400/400: 100%|██████████| 400/400 [04:48<00:00,  1.41it/s, v_num=1, train_loss_step=2.26e+3, train_loss_epoch=2.25e+3]"
     ]
    },
    {
     "name": "stderr",
     "output_type": "stream",
     "text": [
      "`Trainer.fit` stopped: `max_epochs=400` reached.\n"
     ]
    },
    {
     "name": "stdout",
     "output_type": "stream",
     "text": [
      "Epoch 400/400: 100%|██████████| 400/400 [04:48<00:00,  1.39it/s, v_num=1, train_loss_step=2.26e+3, train_loss_epoch=2.25e+3]\n"
     ]
    },
    {
     "name": "stderr",
     "output_type": "stream",
     "text": [
      "100%|██████████| 2/2 [08:48<00:00, 264.49s/it]\n"
     ]
    }
   ],
   "source": [
    "scvi_dir = os.path.join(outdir, \"scvi\")\n",
    "for sample_type, adata in tqdm(type_hvg.items()):\n",
    "    print(f\"Running scVI for {sample_type}\")\n",
    "    sample_dir = os.path.join(scvi_dir, sample_type)\n",
    "    os.makedirs(sample_dir, exist_ok=True)\n",
    "    scvi.model.SCVI.setup_anndata(adata, batch_key=\"sample\", layer=\"count\", categorical_covariate_keys=[\"facs_day\"])\n",
    "    model = scvi.model.SCVI(adata)\n",
    "    model.train(max_epochs=400, accelerator='cuda', early_stopping=True, datasplitter_kwargs={\"drop_last\": True})\n",
    "    #accelerator='cpu'\n",
    "\n",
    "    adata.obsm[\"X_scvi\"] = model.get_latent_representation()\n",
    "\n",
    "    # Plot the UMAP based on the scVI latent space\n",
    "    sc.pp.neighbors(adata, use_rep=\"X_scvi\")\n",
    "    sc.tl.umap(adata)\n",
    "    adata.obsm[\"X_umap_scvi\"] = adata.obsm[\"X_umap\"].copy()\n",
    "\n",
    "    for coloring in umap_colorings:\n",
    "        fig, ax = plt.subplots()\n",
    "        sc.pl.umap(adata, color=coloring, title=f\"scVI {sample_type}\", ax=ax, show=False)\n",
    "        fig.tight_layout()\n",
    "        fig.savefig(os.path.join(sample_dir, f\"umap_{coloring}.png\"))\n",
    "        plt.close(fig)"
   ]
  },
  {
   "cell_type": "markdown",
   "metadata": {},
   "source": [
    "While the cell types still separate in the UMAP, the batch effects are removed. This indicates that scVI has successfully integrated the data.\n",
    "However it looks overcorrected, as subpopulations are not as clearly separated as in the uncorrected data."
   ]
  },
  {
   "cell_type": "markdown",
   "metadata": {},
   "source": [
    "## Harmony\n",
    "\n",
    "Harmony receives a PCA representation of the data and removes the batch effects from there.\n",
    "Benchmarks have shown that Harmony is one of the best batch correction methods for single-cell data."
   ]
  },
  {
   "cell_type": "code",
   "execution_count": 28,
   "metadata": {},
   "outputs": [
    {
     "name": "stderr",
     "output_type": "stream",
     "text": [
      "  0%|          | 0/2 [00:00<?, ?it/s]2025-01-28 16:15:51,974 - harmonypy - INFO - Computing initial centroids with sklearn.KMeans...\n"
     ]
    },
    {
     "name": "stdout",
     "output_type": "stream",
     "text": [
      "Running Harmony for rr_incl\n"
     ]
    },
    {
     "name": "stderr",
     "output_type": "stream",
     "text": [
      "2025-01-28 16:15:52,172 - harmonypy - INFO - sklearn.KMeans initialization complete.\n",
      "2025-01-28 16:15:52,176 - harmonypy - INFO - Iteration 1 of 50\n",
      "2025-01-28 16:15:52,320 - harmonypy - INFO - Iteration 2 of 50\n",
      "2025-01-28 16:15:52,465 - harmonypy - INFO - Iteration 3 of 50\n",
      "2025-01-28 16:15:52,604 - harmonypy - INFO - Converged after 3 iterations\n",
      " 50%|█████     | 1/2 [00:04<00:04,  4.32s/it]2025-01-28 16:15:56,289 - harmonypy - INFO - Computing initial centroids with sklearn.KMeans...\n"
     ]
    },
    {
     "name": "stdout",
     "output_type": "stream",
     "text": [
      "Running Harmony for rr_depl\n"
     ]
    },
    {
     "name": "stderr",
     "output_type": "stream",
     "text": [
      "2025-01-28 16:15:56,564 - harmonypy - INFO - sklearn.KMeans initialization complete.\n",
      "2025-01-28 16:15:56,568 - harmonypy - INFO - Iteration 1 of 50\n",
      "2025-01-28 16:15:56,770 - harmonypy - INFO - Iteration 2 of 50\n",
      "2025-01-28 16:15:57,042 - harmonypy - INFO - Iteration 3 of 50\n",
      "2025-01-28 16:15:57,245 - harmonypy - INFO - Iteration 4 of 50\n",
      "2025-01-28 16:15:57,431 - harmonypy - INFO - Iteration 5 of 50\n",
      "2025-01-28 16:15:57,542 - harmonypy - INFO - Iteration 6 of 50\n",
      "2025-01-28 16:15:57,654 - harmonypy - INFO - Iteration 7 of 50\n",
      "2025-01-28 16:15:57,770 - harmonypy - INFO - Iteration 8 of 50\n",
      "2025-01-28 16:15:57,855 - harmonypy - INFO - Iteration 9 of 50\n",
      "2025-01-28 16:15:58,009 - harmonypy - INFO - Iteration 10 of 50\n",
      "2025-01-28 16:15:58,214 - harmonypy - INFO - Iteration 11 of 50\n",
      "2025-01-28 16:15:58,309 - harmonypy - INFO - Converged after 11 iterations\n",
      "100%|██████████| 2/2 [00:10<00:00,  5.38s/it]\n"
     ]
    }
   ],
   "source": [
    "harmony_dir = os.path.join(outdir, \"harmony\")\n",
    "\n",
    "for sample_type, adata in tqdm(type_adata.items()):\n",
    "    print(f\"Running Harmony for {sample_type}\")\n",
    "    sample_dir = os.path.join(harmony_dir, sample_type)\n",
    "    os.makedirs(sample_dir, exist_ok=True)\n",
    "\n",
    "    sc.external.pp.harmony_integrate(adata, \"sample\", max_iter_harmony=50)\n",
    "\n",
    "    sc.pp.neighbors(adata, use_rep=\"X_pca_harmony\")\n",
    "    sc.tl.umap(adata)\n",
    "    adata.obsm[\"X_umap_harmony\"] = adata.obsm[\"X_umap\"].copy()\n",
    "\n",
    "    for coloring in umap_colorings:\n",
    "        fig, ax = plt.subplots()\n",
    "        sc.pl.umap(adata, color=coloring, title=f\"Harmony {sample_type}\", ax=ax, show=False)\n",
    "        fig.tight_layout()\n",
    "        fig.savefig(os.path.join(sample_dir, f\"umap_{coloring}.png\"))\n",
    "        plt.close(fig)"
   ]
  },
  {
   "cell_type": "markdown",
   "metadata": {},
   "source": [
    "Here, cell types also separate in the UMAP. Some samples are still clustered, but the batch effects are mostly removed.\n",
    "This is probably a good compromise between removing batch effects and keeping the biological signal."
   ]
  },
  {
   "cell_type": "markdown",
   "metadata": {},
   "source": [
    "# Integration benchmarking using scIB"
   ]
  },
  {
   "cell_type": "code",
   "execution_count": 29,
   "metadata": {},
   "outputs": [
    {
     "name": "stdout",
     "output_type": "stream",
     "text": [
      "Recompute neighbors on rep X_pca instead of X_pca_harmony\n",
      "Cluster for cluster_0.2 with leiden\n",
      "Cluster for cluster_0.4 with leiden\n",
      "Cluster for cluster_0.6 with leiden\n",
      "Cluster for cluster_0.8 with leiden\n",
      "Cluster for cluster_1.0 with leiden\n",
      "Cluster for cluster_1.2 with leiden\n",
      "Cluster for cluster_1.4 with leiden\n",
      "Cluster for cluster_1.6 with leiden\n",
      "Cluster for cluster_1.8 with leiden\n",
      "Cluster for cluster_2.0 with leiden\n",
      "NMI...\n",
      "ARI...\n",
      "Silhouette score...\n",
      "Isolated labels F1...\n",
      "Isolated labels ASW...\n",
      "Graph connectivity...\n",
      "cLISI score...\n",
      "iLISI score...\n",
      "Recompute neighbors on rep X_pca_harmony instead of X_pca\n",
      "Cluster for cluster_0.2 with leiden\n",
      "Cluster for cluster_0.4 with leiden\n",
      "Cluster for cluster_0.6 with leiden\n",
      "Cluster for cluster_0.8 with leiden\n",
      "Cluster for cluster_1.0 with leiden\n",
      "Cluster for cluster_1.2 with leiden\n",
      "Cluster for cluster_1.4 with leiden\n",
      "Cluster for cluster_1.6 with leiden\n",
      "Cluster for cluster_1.8 with leiden\n",
      "Cluster for cluster_2.0 with leiden\n",
      "NMI...\n",
      "ARI...\n",
      "Silhouette score...\n",
      "Isolated labels F1...\n",
      "Isolated labels ASW...\n",
      "Graph connectivity...\n",
      "cLISI score...\n",
      "iLISI score...\n"
     ]
    }
   ],
   "source": [
    "embeddings = [\"X_pca\", \"X_pca_harmony\"]\n",
    "\n",
    "results = []\n",
    "\n",
    "for embedding in embeddings:\n",
    "    result = scib.me.metrics(adata.raw.to_adata(),\n",
    "        adata,\n",
    "        \"sample\",\n",
    "        \"cell_type\",\n",
    "        embed=embedding,\n",
    "        organism='mouse',\n",
    "        ari_=True,\n",
    "        nmi_=True,\n",
    "        silhouette_=True,\n",
    "        pcr_=False,\n",
    "        cell_cycle_=False,\n",
    "        hvg_score_=False,\n",
    "        isolated_labels_=True,\n",
    "        graph_conn_=True,\n",
    "        trajectory_=False,\n",
    "        kBET_=False,\n",
    "        lisi_graph_=True\n",
    "    )\n",
    "\n",
    "    result.columns = [embedding]\n",
    "    results.append(result)"
   ]
  },
  {
   "cell_type": "code",
   "execution_count": 30,
   "metadata": {},
   "outputs": [
    {
     "data": {
      "text/plain": [
       "<Axes: >"
      ]
     },
     "execution_count": 30,
     "metadata": {},
     "output_type": "execute_result"
    },
    {
     "data": {
      "image/png": "[encoded data removed]",
      "text/plain": [
       "<Figure size 1000x500 with 1 Axes>"
      ]
     },
     "metadata": {},
     "output_type": "display_data"
    }
   ],
   "source": [
    "df_scib = pd.concat(results, axis=1)\n",
    "df_scib.dropna(axis=0, how='all', inplace=True)\n",
    "df_scib.plot(kind='bar', figsize=(10, 5))"
   ]
  },
  {
   "cell_type": "markdown",
   "metadata": {},
   "source": [
    "# Save the data"
   ]
  },
  {
   "cell_type": "code",
   "execution_count": 31,
   "metadata": {},
   "outputs": [
    {
     "data": {
      "text/plain": [
       "AnnData object with n_obs × n_vars = 2436 × 27545\n",
       "    obs: 'sample', 'sample_type', 'barcode', 'well_position', 'well_row', 'well_column', 'cell_type', 'n_genes_by_counts', 'log1p_n_genes_by_counts', 'total_counts', 'log1p_total_counts', 'pct_counts_in_top_50_genes', 'pct_counts_in_top_100_genes', 'pct_counts_in_top_200_genes', 'pct_counts_in_top_500_genes', 'total_counts_mt', 'log1p_total_counts_mt', 'pct_counts_mt', 'total_counts_rRNA', 'log1p_total_counts_rRNA', 'pct_counts_rRNA', 'total_counts_lncRNA', 'log1p_total_counts_lncRNA', 'pct_counts_lncRNA', 'n_genes', 'doublet_score', 'predicted_doublet', 'sample_group', 'facs_day', 'cluster_0.2', 'cluster_0.4', 'cluster_0.6', 'cluster_0.8', 'cluster_1.0', 'cluster_1.2', 'cluster_1.4', 'cluster_1.6', 'cluster_1.8', 'cluster_2.0', 'cluster', 'silhouette_temp'\n",
       "    var: 'gene_ids', 'feature_types', 'gene_symbol', 'gene_versions', 'gene_type', 'mt', 'rRNA', 'lncRNA', 'n_cells_by_counts', 'mean_counts', 'log1p_mean_counts', 'pct_dropout_by_counts', 'total_counts', 'log1p_total_counts', 'n_cells', 'highly_variable', 'means', 'dispersions', 'dispersions_norm', 'highly_variable_nbatches', 'highly_variable_intersection'\n",
       "    uns: 'log1p', 'scrublet', 'hvg', 'pca', 'neighbors', 'umap', 'sample_colors', 'cell_type_colors', 'facs_day_colors', 'cluster_0.2', 'cluster_0.4', 'cluster_0.6', 'cluster_0.8', 'cluster_1.0', 'cluster_1.2', 'cluster_1.4', 'cluster_1.6', 'cluster_1.8', 'cluster_2.0'\n",
       "    obsm: 'X_pca', 'X_umap', 'X_pca_harmony', 'X_umap_harmony'\n",
       "    varm: 'PCs'\n",
       "    layers: 'ambiguous', 'count', 'log1p', 'spliced', 'unspliced'\n",
       "    obsp: 'distances', 'connectivities'"
      ]
     },
     "execution_count": 31,
     "metadata": {},
     "output_type": "execute_result"
    }
   ],
   "source": [
    "adata"
   ]
  },
  {
   "cell_type": "code",
   "execution_count": 32,
   "metadata": {},
   "outputs": [],
   "source": [
    "adata.write(\"2_integrate.h5ad\")"
   ]
  }
 ],
 "metadata": {
  "kernelspec": {
   "display_name": "sc-gpu",
   "language": "python",
   "name": "python3"
  },
  "language_info": {
   "codemirror_mode": {
    "name": "ipython",
    "version": 3
   },
   "file_extension": ".py",
   "mimetype": "text/x-python",
   "name": "python",
   "nbconvert_exporter": "python",
   "pygments_lexer": "ipython3",
   "version": "3.9.15"
  }
 },
 "nbformat": 4,
 "nbformat_minor": 2
}
