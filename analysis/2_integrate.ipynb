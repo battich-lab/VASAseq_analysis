{
 "cells": [
  {
   "cell_type": "code",
   "execution_count": 30,
   "metadata": {},
   "outputs": [],
   "source": [
    "import warnings\n",
    "\n",
    "# Ignore future warnings\n",
    "warnings.filterwarnings(\"ignore\")\n",
    "\n",
    "import os\n",
    "import pandas as pd\n",
    "import scanpy as sc\n",
    "import scvi\n",
    "import scib\n",
    "from tqdm import tqdm\n",
    "\n",
    "# Set global matplotlib figure size\n",
    "import matplotlib.pyplot as plt\n",
    "plt.rcParams['figure.figsize'] = [8, 8]\n",
    "\n",
    "# Ignore future warnings\n",
    "warnings.filterwarnings(\"ignore\")"
   ]
  },
  {
   "cell_type": "code",
   "execution_count": 31,
   "metadata": {},
   "outputs": [],
   "source": [
    "outdir = \"figures/integration\"\n",
    "os.makedirs(outdir, exist_ok=True)"
   ]
  },
  {
   "cell_type": "code",
   "execution_count": 32,
   "metadata": {},
   "outputs": [
    {
     "data": {
      "text/plain": [
       "AnnData object with n_obs × n_vars = 10876 × 29965\n",
       "    obs: 'sample', 'sample_type', 'barcode', 'well_position', 'well_row', 'well_column', 'cell_type', 'n_genes_by_counts', 'log1p_n_genes_by_counts', 'total_counts', 'log1p_total_counts', 'pct_counts_in_top_50_genes', 'pct_counts_in_top_100_genes', 'pct_counts_in_top_200_genes', 'pct_counts_in_top_500_genes', 'total_counts_mt', 'log1p_total_counts_mt', 'pct_counts_mt', 'total_counts_rRNA', 'log1p_total_counts_rRNA', 'pct_counts_rRNA', 'total_counts_lncRNA', 'log1p_total_counts_lncRNA', 'pct_counts_lncRNA', 'n_genes', 'doublet_score', 'predicted_doublet', 'sample_group', 'facs_day'\n",
       "    var: 'gene_ids', 'feature_types', 'gene_symbol', 'gene_versions', 'gene_type', 'mt', 'rRNA', 'lncRNA', 'n_cells_by_counts', 'mean_counts', 'log1p_mean_counts', 'pct_dropout_by_counts', 'total_counts', 'log1p_total_counts', 'n_cells'\n",
       "    uns: 'log1p', 'scrublet'\n",
       "    layers: 'ambiguous', 'count', 'log1p', 'spliced', 'unspliced'"
      ]
     },
     "execution_count": 32,
     "metadata": {},
     "output_type": "execute_result"
    }
   ],
   "source": [
    "adata = sc.read_h5ad(\"1_qc.h5ad\")\n",
    "adata"
   ]
  },
  {
   "cell_type": "code",
   "execution_count": 20,
   "metadata": {},
   "outputs": [
    {
     "data": {
      "text/plain": [
       "AnnData object with n_obs × n_vars = 8342 × 1\n",
       "    obs: 'sample', 'sample_type', 'barcode', 'well_position', 'well_row', 'well_column', 'cell_type', 'n_genes_by_counts', 'log1p_n_genes_by_counts', 'total_counts', 'log1p_total_counts', 'pct_counts_in_top_50_genes', 'pct_counts_in_top_100_genes', 'pct_counts_in_top_200_genes', 'pct_counts_in_top_500_genes', 'total_counts_mt', 'log1p_total_counts_mt', 'pct_counts_mt', 'total_counts_rRNA', 'log1p_total_counts_rRNA', 'pct_counts_rRNA', 'total_counts_lncRNA', 'log1p_total_counts_lncRNA', 'pct_counts_lncRNA', 'n_genes', 'doublet_score', 'predicted_doublet', 'sample_group', 'facs_day'\n",
       "    var: 'gene_ids', 'feature_types', 'gene_symbol', 'gene_versions', 'gene_type', 'mt', 'rRNA', 'lncRNA', 'n_cells_by_counts', 'mean_counts', 'log1p_mean_counts', 'pct_dropout_by_counts', 'total_counts', 'log1p_total_counts', 'n_cells'\n",
       "    uns: 'log1p', 'scrublet'\n",
       "    layers: 'ambiguous', 'count', 'log1p', 'spliced', 'unspliced'"
      ]
     },
     "execution_count": 20,
     "metadata": {},
     "output_type": "execute_result"
    }
   ],
   "source": [
    "adata = adata[:, adata.var[\"gene_type\"] == \"rRNA\"].copy()\n",
    "adata"
   ]
  },
  {
   "cell_type": "code",
   "execution_count": 23,
   "metadata": {},
   "outputs": [],
   "source": [
    "# Specify which colorings to use for plotting\n",
    "umap_colorings = [\n",
    "    \"sample\",\n",
    "    \"cell_type\",\n",
    "    \"facs_day\"\n",
    "]"
   ]
  },
  {
   "cell_type": "markdown",
   "metadata": {},
   "source": [
    "# Data preparation"
   ]
  },
  {
   "cell_type": "code",
   "execution_count": 35,
   "metadata": {},
   "outputs": [],
   "source": [
    "# For now, we ignore RR cells\n",
    "# They have a different gene expression profile\n",
    "# Not sure how to deal with them yet (and what we want to learn from them)\n",
    "adata = adata[adata.obs[\"sample_group\"].notnull()].copy()\n",
    "sample_types = adata.obs[\"sample_type\"].unique()\n",
    "\n",
    "type_adata = {\n",
    "    sample_type: adata[adata.obs[\"sample_type\"] == sample_type].copy()\n",
    "    for sample_type in sample_types\n",
    "}\n",
    "\n",
    "type_hvg = {}\n",
    "\n",
    "for sample_type, adata in type_adata.items():\n",
    "    sc.pp.highly_variable_genes(adata, n_top_genes=5000, batch_key=\"sample\", layer=\"log1p\")\n",
    "    type_hvg[sample_type] = adata[:, adata.var.highly_variable].copy()"
   ]
  },
  {
   "cell_type": "markdown",
   "metadata": {},
   "source": [
    "## Looking at the uncorrected data distributions"
   ]
  },
  {
   "cell_type": "code",
   "execution_count": 36,
   "metadata": {},
   "outputs": [
    {
     "name": "stderr",
     "output_type": "stream",
     "text": [
      "100%|██████████| 3/3 [00:14<00:00,  4.67s/it]\n"
     ]
    }
   ],
   "source": [
    "unintegrated_dir = os.path.join(outdir, \"unintegrated\")\n",
    "for sample_type, adata in tqdm(type_adata.items()):\n",
    "    sample_dir = os.path.join(unintegrated_dir, sample_type)\n",
    "    os.makedirs(sample_dir, exist_ok=True)\n",
    "    sc.pp.pca(adata, n_comps=50, layer=\"log1p\")\n",
    "    sc.pp.neighbors(adata)\n",
    "    sc.tl.umap(adata)\n",
    "    for coloring in umap_colorings:\n",
    "        fig, ax = plt.subplots()\n",
    "        sc.pl.umap(adata, color=coloring, title=f\"Uncorrected {sample_type}\", ax=ax, show=False)\n",
    "        fig.tight_layout()\n",
    "        fig.savefig(os.path.join(sample_dir, f\"umap_{coloring}.png\"))\n",
    "        plt.close(fig)"
   ]
  },
  {
   "cell_type": "markdown",
   "metadata": {},
   "source": [
    "We can see that the samples form clusters in the UMAP. This indicates that the batch effects are not negligible.\n",
    "We can also see that the cell types separate in the UMAP. \n",
    "Biological signal and batch effects appear to be of similar strength in this data."
   ]
  },
  {
   "cell_type": "markdown",
   "metadata": {},
   "source": [
    "# Integration\n",
    "\n",
    "Batch correction is referred to as integration in the single-cell literature. This is, because the count matrices are too large for performing actual batch correction. Instead, the data is integrated into a lower-dimensional space, where the batch effects are removed."
   ]
  },
  {
   "cell_type": "markdown",
   "metadata": {},
   "source": [
    "## scVI\n",
    "\n",
    "scVI uses a variational Autoencoder to integrate the data. The encoder learns a lower-dimensional representation of the data, while the decoder learns to reconstruct the data from this representation."
   ]
  },
  {
   "cell_type": "code",
   "execution_count": 37,
   "metadata": {},
   "outputs": [
    {
     "name": "stderr",
     "output_type": "stream",
     "text": [
      "  0%|          | 0/3 [00:00<?, ?it/s]GPU available: True (mps), used: False\n",
      "TPU available: False, using: 0 TPU cores\n",
      "HPU available: False, using: 0 HPUs\n"
     ]
    },
    {
     "name": "stdout",
     "output_type": "stream",
     "text": [
      "Running scVI for rr_incl\n",
      "Epoch 400/400: 100%|██████████| 400/400 [03:08<00:00,  2.18it/s, v_num=1, train_loss_step=2.5e+3, train_loss_epoch=1.43e+3] "
     ]
    },
    {
     "name": "stderr",
     "output_type": "stream",
     "text": [
      "`Trainer.fit` stopped: `max_epochs=400` reached.\n"
     ]
    },
    {
     "name": "stdout",
     "output_type": "stream",
     "text": [
      "Epoch 400/400: 100%|██████████| 400/400 [03:08<00:00,  2.13it/s, v_num=1, train_loss_step=2.5e+3, train_loss_epoch=1.43e+3]\n"
     ]
    },
    {
     "name": "stderr",
     "output_type": "stream",
     "text": [
      " 33%|███▎      | 1/3 [03:10<06:21, 190.93s/it]GPU available: True (mps), used: False\n",
      "TPU available: False, using: 0 TPU cores\n",
      "HPU available: False, using: 0 HPUs\n"
     ]
    },
    {
     "name": "stdout",
     "output_type": "stream",
     "text": [
      "Running scVI for combined\n",
      "Epoch 400/400: 100%|██████████| 400/400 [04:05<00:00,  1.72it/s, v_num=1, train_loss_step=2.29e+3, train_loss_epoch=2.38e+3]"
     ]
    },
    {
     "name": "stderr",
     "output_type": "stream",
     "text": [
      "`Trainer.fit` stopped: `max_epochs=400` reached.\n"
     ]
    },
    {
     "name": "stdout",
     "output_type": "stream",
     "text": [
      "Epoch 400/400: 100%|██████████| 400/400 [04:05<00:00,  1.63it/s, v_num=1, train_loss_step=2.29e+3, train_loss_epoch=2.38e+3]\n"
     ]
    },
    {
     "name": "stderr",
     "output_type": "stream",
     "text": [
      " 67%|██████▋   | 2/3 [07:20<03:45, 225.16s/it]GPU available: True (mps), used: False\n",
      "TPU available: False, using: 0 TPU cores\n",
      "HPU available: False, using: 0 HPUs\n"
     ]
    },
    {
     "name": "stdout",
     "output_type": "stream",
     "text": [
      "Running scVI for rr_depl\n",
      "Epoch 400/400: 100%|██████████| 400/400 [03:42<00:00,  1.83it/s, v_num=1, train_loss_step=2.35e+3, train_loss_epoch=2.26e+3]"
     ]
    },
    {
     "name": "stderr",
     "output_type": "stream",
     "text": [
      "`Trainer.fit` stopped: `max_epochs=400` reached.\n"
     ]
    },
    {
     "name": "stdout",
     "output_type": "stream",
     "text": [
      "Epoch 400/400: 100%|██████████| 400/400 [03:42<00:00,  1.80it/s, v_num=1, train_loss_step=2.35e+3, train_loss_epoch=2.26e+3]\n"
     ]
    },
    {
     "name": "stderr",
     "output_type": "stream",
     "text": [
      "100%|██████████| 3/3 [11:05<00:00, 221.88s/it]\n"
     ]
    }
   ],
   "source": [
    "scvi_dir = os.path.join(outdir, \"scvi\")\n",
    "for sample_type, adata in tqdm(type_hvg.items()):\n",
    "    print(f\"Running scVI for {sample_type}\")\n",
    "    sample_dir = os.path.join(scvi_dir, sample_type)\n",
    "    os.makedirs(sample_dir, exist_ok=True)\n",
    "    scvi.model.SCVI.setup_anndata(adata, batch_key=\"sample\", layer=\"count\", categorical_covariate_keys=[\"facs_day\"])\n",
    "    model = scvi.model.SCVI(adata)\n",
    "    model.train(max_epochs=400, accelerator='cpu'\n",
    "                #'cuda', early_stopping=True, datasplitter_kwargs={\"drop_last\": True}\n",
    "                )\n",
    "\n",
    "    adata.obsm[\"X_scvi\"] = model.get_latent_representation()\n",
    "\n",
    "    # Plot the UMAP based on the scVI latent space\n",
    "    sc.pp.neighbors(adata, use_rep=\"X_scvi\")\n",
    "    sc.tl.umap(adata)\n",
    "    adata.obsm[\"X_umap_scvi\"] = adata.obsm[\"X_umap\"].copy()\n",
    "\n",
    "    for coloring in umap_colorings:\n",
    "        fig, ax = plt.subplots()\n",
    "        sc.pl.umap(adata, color=coloring, title=f\"scVI {sample_type}\", ax=ax, show=False)\n",
    "        fig.tight_layout()\n",
    "        fig.savefig(os.path.join(sample_dir, f\"umap_{coloring}.png\"))\n",
    "        plt.close(fig)"
   ]
  },
  {
   "cell_type": "markdown",
   "metadata": {},
   "source": [
    "While the cell types still separate in the UMAP, the batch effects are removed. This indicates that scVI has successfully integrated the data.\n",
    "However it looks overcorrected, as subpopulations are not as clearly separated as in the uncorrected data."
   ]
  },
  {
   "cell_type": "markdown",
   "metadata": {},
   "source": [
    "## Harmony\n",
    "\n",
    "Harmony receives a PCA representation of the data and removes the batch effects from there.\n",
    "Benchmarks have shown that Harmony is one of the best batch correction methods for single-cell data."
   ]
  },
  {
   "cell_type": "code",
   "execution_count": 38,
   "metadata": {},
   "outputs": [
    {
     "name": "stderr",
     "output_type": "stream",
     "text": [
      "  0%|          | 0/3 [00:00<?, ?it/s]2025-02-10 17:58:28,523 - harmonypy - INFO - Computing initial centroids with sklearn.KMeans...\n"
     ]
    },
    {
     "name": "stdout",
     "output_type": "stream",
     "text": [
      "Running Harmony for rr_incl\n"
     ]
    },
    {
     "name": "stderr",
     "output_type": "stream",
     "text": [
      "2025-02-10 17:58:28,768 - harmonypy - INFO - sklearn.KMeans initialization complete.\n",
      "2025-02-10 17:58:28,772 - harmonypy - INFO - Iteration 1 of 50\n",
      "2025-02-10 17:58:28,933 - harmonypy - INFO - Iteration 2 of 50\n",
      "2025-02-10 17:58:29,100 - harmonypy - INFO - Iteration 3 of 50\n",
      "2025-02-10 17:58:29,274 - harmonypy - INFO - Iteration 4 of 50\n",
      "2025-02-10 17:58:29,434 - harmonypy - INFO - Converged after 4 iterations\n",
      " 33%|███▎      | 1/3 [00:04<00:08,  4.05s/it]2025-02-10 17:58:32,562 - harmonypy - INFO - Computing initial centroids with sklearn.KMeans...\n"
     ]
    },
    {
     "name": "stdout",
     "output_type": "stream",
     "text": [
      "Running Harmony for combined\n"
     ]
    },
    {
     "name": "stderr",
     "output_type": "stream",
     "text": [
      "2025-02-10 17:58:32,824 - harmonypy - INFO - sklearn.KMeans initialization complete.\n",
      "2025-02-10 17:58:32,829 - harmonypy - INFO - Iteration 1 of 50\n",
      "2025-02-10 17:58:33,082 - harmonypy - INFO - Iteration 2 of 50\n",
      "2025-02-10 17:58:33,305 - harmonypy - INFO - Iteration 3 of 50\n",
      "2025-02-10 17:58:33,529 - harmonypy - INFO - Iteration 4 of 50\n",
      "2025-02-10 17:58:33,735 - harmonypy - INFO - Iteration 5 of 50\n",
      "2025-02-10 17:58:33,942 - harmonypy - INFO - Iteration 6 of 50\n",
      "2025-02-10 17:58:34,140 - harmonypy - INFO - Converged after 6 iterations\n",
      " 67%|██████▋   | 2/3 [00:09<00:04,  4.94s/it]2025-02-10 17:58:38,120 - harmonypy - INFO - Computing initial centroids with sklearn.KMeans...\n"
     ]
    },
    {
     "name": "stdout",
     "output_type": "stream",
     "text": [
      "Running Harmony for rr_depl\n"
     ]
    },
    {
     "name": "stderr",
     "output_type": "stream",
     "text": [
      "2025-02-10 17:58:38,409 - harmonypy - INFO - sklearn.KMeans initialization complete.\n",
      "2025-02-10 17:58:38,415 - harmonypy - INFO - Iteration 1 of 50\n",
      "2025-02-10 17:58:38,628 - harmonypy - INFO - Iteration 2 of 50\n",
      "2025-02-10 17:58:38,852 - harmonypy - INFO - Iteration 3 of 50\n",
      "2025-02-10 17:58:39,071 - harmonypy - INFO - Iteration 4 of 50\n",
      "2025-02-10 17:58:39,284 - harmonypy - INFO - Iteration 5 of 50\n",
      "2025-02-10 17:58:39,421 - harmonypy - INFO - Iteration 6 of 50\n",
      "2025-02-10 17:58:39,561 - harmonypy - INFO - Iteration 7 of 50\n",
      "2025-02-10 17:58:39,694 - harmonypy - INFO - Converged after 7 iterations\n",
      "100%|██████████| 3/3 [00:15<00:00,  5.02s/it]\n"
     ]
    }
   ],
   "source": [
    "harmony_dir = os.path.join(outdir, \"harmony\")\n",
    "\n",
    "for sample_type, adata in tqdm(type_adata.items()):\n",
    "    print(f\"Running Harmony for {sample_type}\")\n",
    "    sample_dir = os.path.join(harmony_dir, sample_type)\n",
    "    os.makedirs(sample_dir, exist_ok=True)\n",
    "\n",
    "    sc.external.pp.harmony_integrate(adata, \"sample\", max_iter_harmony=50)\n",
    "\n",
    "    sc.pp.neighbors(adata, use_rep=\"X_pca_harmony\")\n",
    "    sc.tl.umap(adata)\n",
    "    adata.obsm[\"X_umap_harmony\"] = adata.obsm[\"X_umap\"].copy()\n",
    "\n",
    "    for coloring in umap_colorings:\n",
    "        fig, ax = plt.subplots()\n",
    "        sc.pl.umap(adata, color=coloring, title=f\"Harmony {sample_type}\", ax=ax, show=False)\n",
    "        fig.tight_layout()\n",
    "        fig.savefig(os.path.join(sample_dir, f\"umap_{coloring}.png\"))\n",
    "        plt.close(fig)"
   ]
  },
  {
   "cell_type": "markdown",
   "metadata": {},
   "source": [
    "Here, cell types also separate in the UMAP. Some samples are still clustered, but the batch effects are mostly removed.\n",
    "This is probably a good compromise between removing batch effects and keeping the biological signal."
   ]
  },
  {
   "cell_type": "markdown",
   "metadata": {},
   "source": [
    "# Integration benchmarking using scIB"
   ]
  },
  {
   "cell_type": "code",
   "execution_count": 28,
   "metadata": {},
   "outputs": [
    {
     "name": "stdout",
     "output_type": "stream",
     "text": [
      "Cluster for cluster_0.2 with leiden\n",
      "Cluster for cluster_0.4 with leiden\n",
      "Cluster for cluster_0.6 with leiden\n",
      "Cluster for cluster_0.8 with leiden\n",
      "Cluster for cluster_1.0 with leiden\n",
      "Cluster for cluster_1.2 with leiden\n",
      "Cluster for cluster_1.4 with leiden\n",
      "Cluster for cluster_1.6 with leiden\n",
      "Cluster for cluster_1.8 with leiden\n",
      "Cluster for cluster_2.0 with leiden\n",
      "NMI...\n",
      "ARI...\n",
      "Silhouette score...\n",
      "Isolated labels F1...\n",
      "Isolated labels ASW...\n",
      "Graph connectivity...\n",
      "cLISI score...\n",
      "iLISI score...\n",
      "Epoch 46/400:  11%|█▏        | 45/400 [1:37:59<12:53:04, 130.66s/it, v_num=1, train_loss_step=1.39e+3, train_loss_epoch=1.56e+3]\n",
      "Recompute neighbors on rep X_pca_harmony instead of X_pca\n",
      "Cluster for cluster_0.2 with leiden\n",
      "Cluster for cluster_0.4 with leiden\n",
      "Cluster for cluster_0.6 with leiden\n",
      "Cluster for cluster_0.8 with leiden\n",
      "Cluster for cluster_1.0 with leiden\n",
      "Cluster for cluster_1.2 with leiden\n",
      "Cluster for cluster_1.4 with leiden\n",
      "Cluster for cluster_1.6 with leiden\n",
      "Cluster for cluster_1.8 with leiden\n",
      "Cluster for cluster_2.0 with leiden\n",
      "NMI...\n",
      "ARI...\n",
      "Silhouette score...\n",
      "Isolated labels F1...\n",
      "Isolated labels ASW...\n",
      "Graph connectivity...\n",
      "cLISI score...\n",
      "iLISI score...\n"
     ]
    }
   ],
   "source": [
    "embeddings = [\"X_pca\", \"X_pca_harmony\"]\n",
    "\n",
    "results = []\n",
    "\n",
    "for embedding in embeddings:\n",
    "    result = scib.me.metrics(adata.raw.to_adata(),\n",
    "        adata,\n",
    "        \"sample\",\n",
    "        \"cell_type\",\n",
    "        embed=embedding,\n",
    "        organism='mouse',\n",
    "        ari_=True,\n",
    "        nmi_=True,\n",
    "        silhouette_=True,\n",
    "        pcr_=False,\n",
    "        cell_cycle_=False,\n",
    "        hvg_score_=False,\n",
    "        isolated_labels_=True,\n",
    "        graph_conn_=True,\n",
    "        trajectory_=False,\n",
    "        kBET_=False,\n",
    "        lisi_graph_=True\n",
    "    )\n",
    "\n",
    "    result.columns = [embedding]\n",
    "    results.append(result)"
   ]
  },
  {
   "cell_type": "code",
   "execution_count": 40,
   "metadata": {},
   "outputs": [
    {
     "data": {
      "text/plain": [
       "<Axes: >"
      ]
     },
     "execution_count": 40,
     "metadata": {},
     "output_type": "execute_result"
    },
    {
     "data": {
      "image/png": "[encoded data removed]",
      "text/plain": [
       "<Figure size 1000x500 with 1 Axes>"
      ]
     },
     "metadata": {},
     "output_type": "display_data"
    }
   ],
   "source": [
    "df_scib = pd.concat(results, axis=1)\n",
    "df_scib.dropna(axis=0, how='all', inplace=True)\n",
    "df_scib.plot(kind='bar', figsize=(10, 5))"
   ]
  },
  {
   "cell_type": "markdown",
   "metadata": {},
   "source": [
    "# Save the data"
   ]
  },
  {
   "cell_type": "code",
   "execution_count": 26,
   "metadata": {},
   "outputs": [
    {
     "data": {
      "text/plain": [
       "AnnData object with n_obs × n_vars = 2353 × 29965\n",
       "    obs: 'sample', 'sample_type', 'barcode', 'well_position', 'well_row', 'well_column', 'cell_type', 'n_genes_by_counts', 'log1p_n_genes_by_counts', 'total_counts', 'log1p_total_counts', 'pct_counts_in_top_50_genes', 'pct_counts_in_top_100_genes', 'pct_counts_in_top_200_genes', 'pct_counts_in_top_500_genes', 'total_counts_mt', 'log1p_total_counts_mt', 'pct_counts_mt', 'total_counts_rRNA', 'log1p_total_counts_rRNA', 'pct_counts_rRNA', 'total_counts_lncRNA', 'log1p_total_counts_lncRNA', 'pct_counts_lncRNA', 'n_genes', 'doublet_score', 'predicted_doublet', 'sample_group', 'facs_day', 'cluster_0.2', 'cluster_0.4', 'cluster_0.6', 'cluster_0.8', 'cluster_1.0', 'cluster_1.2', 'cluster_1.4', 'cluster_1.6', 'cluster_1.8', 'cluster_2.0', 'cluster', 'silhouette_temp'\n",
       "    var: 'gene_ids', 'feature_types', 'gene_symbol', 'gene_versions', 'gene_type', 'mt', 'rRNA', 'lncRNA', 'n_cells_by_counts', 'mean_counts', 'log1p_mean_counts', 'pct_dropout_by_counts', 'total_counts', 'log1p_total_counts', 'n_cells', 'highly_variable', 'means', 'dispersions', 'dispersions_norm', 'highly_variable_nbatches', 'highly_variable_intersection'\n",
       "    uns: 'log1p', 'scrublet', 'hvg', 'pca', 'neighbors', 'umap', 'sample_colors', 'cell_type_colors', 'facs_day_colors', 'cluster_0.2', 'cluster_0.4', 'cluster_0.6', 'cluster_0.8', 'cluster_1.0', 'cluster_1.2', 'cluster_1.4', 'cluster_1.6', 'cluster_1.8', 'cluster_2.0'\n",
       "    obsm: 'X_pca', 'X_umap', 'X_pca_harmony', 'X_umap_harmony'\n",
       "    varm: 'PCs'\n",
       "    layers: 'ambiguous', 'count', 'log1p', 'spliced', 'unspliced'\n",
       "    obsp: 'distances', 'connectivities'"
      ]
     },
     "execution_count": 26,
     "metadata": {},
     "output_type": "execute_result"
    }
   ],
   "source": [
    "adata"
   ]
  },
  {
   "cell_type": "code",
   "execution_count": 41,
   "metadata": {},
   "outputs": [],
   "source": [
    "adata.write(\"2_integrate.h5ad\")"
   ]
  }
 ],
 "metadata": {
  "kernelspec": {
   "display_name": "sc-gpu",
   "language": "python",
   "name": "python3"
  },
  "language_info": {
   "codemirror_mode": {
    "name": "ipython",
    "version": 3
   },
   "file_extension": ".py",
   "mimetype": "text/x-python",
   "name": "python",
   "nbconvert_exporter": "python",
   "pygments_lexer": "ipython3",
   "version": "3.12.8"
  }
 },
 "nbformat": 4,
 "nbformat_minor": 2
}
