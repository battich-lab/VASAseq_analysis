{
 "cells": [
  {
   "cell_type": "code",
   "execution_count": 1,
   "metadata": {},
   "outputs": [],
   "source": [
    "import warnings\n",
    "\n",
    "# Ignore future warnings\n",
    "warnings.filterwarnings(\"ignore\")\n",
    "\n",
    "import os\n",
    "import pandas as pd\n",
    "import scanpy as sc\n",
    "import scvi\n",
    "import scib\n",
    "from tqdm import tqdm\n",
    "\n",
    "# Set global matplotlib figure size\n",
    "import matplotlib.pyplot as plt\n",
    "plt.rcParams['figure.figsize'] = [8, 8]\n",
    "\n",
    "# Ignore future warnings\n",
    "warnings.filterwarnings(\"ignore\")"
   ]
  },
  {
   "cell_type": "code",
   "execution_count": 2,
   "metadata": {},
   "outputs": [],
   "source": [
    "outdir = \"figures/integration\"\n",
    "os.makedirs(outdir, exist_ok=True)"
   ]
  },
  {
   "cell_type": "code",
   "execution_count": 3,
   "metadata": {},
   "outputs": [
    {
     "data": {
      "text/plain": [
       "AnnData object with n_obs × n_vars = 9027 × 29459\n",
       "    obs: 'sample', 'sample_type', 'barcode', 'well_position', 'well_row', 'well_column', 'cell_type', 'n_genes_by_counts', 'log1p_n_genes_by_counts', 'total_counts', 'log1p_total_counts', 'pct_counts_in_top_50_genes', 'pct_counts_in_top_100_genes', 'pct_counts_in_top_200_genes', 'pct_counts_in_top_500_genes', 'total_counts_mt', 'log1p_total_counts_mt', 'pct_counts_mt', 'total_counts_rRNA', 'log1p_total_counts_rRNA', 'pct_counts_rRNA', 'total_counts_lncRNA', 'log1p_total_counts_lncRNA', 'pct_counts_lncRNA', 'n_genes', 'doublet_score', 'predicted_doublet', 'sample_group', 'facs_day', 'S_score', 'G2M_score', 'phase'\n",
       "    var: 'gene_ids', 'feature_types', 'gene_symbol', 'gene_versions', 'gene_type', 'mt', 'rRNA', 'lncRNA', 'n_cells_by_counts', 'mean_counts', 'log1p_mean_counts', 'pct_dropout_by_counts', 'total_counts', 'log1p_total_counts', 'n_cells'\n",
       "    uns: 'log1p', 'scrublet'\n",
       "    layers: 'ambiguous', 'count', 'log1p', 'spliced', 'unspliced'"
      ]
     },
     "execution_count": 3,
     "metadata": {},
     "output_type": "execute_result"
    }
   ],
   "source": [
    "adata = sc.read_h5ad(\"1_qc.h5ad\")\n",
    "adata"
   ]
  },
  {
   "cell_type": "code",
   "execution_count": 4,
   "metadata": {},
   "outputs": [],
   "source": [
    "# Specify which colorings to use for plotting\n",
    "umap_colorings = [\n",
    "    \"sample\",\n",
    "    \"cell_type\",\n",
    "    \"facs_day\",\n",
    "    'phase'\n",
    "]"
   ]
  },
  {
   "cell_type": "markdown",
   "metadata": {},
   "source": [
    "# Data preparation"
   ]
  },
  {
   "cell_type": "code",
   "execution_count": 5,
   "metadata": {},
   "outputs": [],
   "source": [
    "# For now, we ignore RR cells\n",
    "# They have a different gene expression profile\n",
    "# Not sure how to deal with them yet (and what we want to learn from them)\n",
    "adata = adata[adata.obs[\"sample_group\"].notnull()].copy()\n",
    "sample_types = adata.obs[\"sample_type\"].unique()\n",
    "\n",
    "type_adata = {\n",
    "    sample_type: adata[adata.obs[\"sample_type\"] == sample_type].copy()\n",
    "    for sample_type in sample_types\n",
    "}\n",
    "\n",
    "type_hvg = {}\n",
    "\n",
    "for sample_type, adata in type_adata.items():\n",
    "    sc.pp.highly_variable_genes(adata, n_top_genes=5000, batch_key=\"sample\", layer=\"log1p\")\n",
    "    type_hvg[sample_type] = adata[:, adata.var.highly_variable].copy()"
   ]
  },
  {
   "cell_type": "markdown",
   "metadata": {},
   "source": [
    "## Looking at the uncorrected data distributions"
   ]
  },
  {
   "cell_type": "code",
   "execution_count": 6,
   "metadata": {},
   "outputs": [
    {
     "name": "stderr",
     "output_type": "stream",
     "text": [
      "100%|██████████| 3/3 [00:23<00:00,  7.82s/it]\n"
     ]
    }
   ],
   "source": [
    "unintegrated_dir = os.path.join(outdir, \"unintegrated\")\n",
    "for sample_type, adata in tqdm(type_adata.items()):\n",
    "    sample_dir = os.path.join(unintegrated_dir, sample_type)\n",
    "    os.makedirs(sample_dir, exist_ok=True)\n",
    "    sc.pp.pca(adata, layer=\"log1p\")\n",
    "    sc.pp.neighbors(adata)\n",
    "    sc.tl.umap(adata)\n",
    "    for coloring in umap_colorings:\n",
    "        fig, ax = plt.subplots()\n",
    "        sc.pl.umap(adata, color=coloring, title=f\"Uncorrected {sample_type}\", ax=ax, show=False)\n",
    "        fig.tight_layout()\n",
    "        fig.savefig(os.path.join(sample_dir, f\"umap_{coloring}.png\"))\n",
    "        plt.close(fig)"
   ]
  },
  {
   "cell_type": "markdown",
   "metadata": {},
   "source": [
    "We can see that the samples form clusters in the UMAP. This indicates that the batch effects are not negligible.\n",
    "We can also see that the cell types separate in the UMAP. \n",
    "Biological signal and batch effects appear to be of similar strength in this data."
   ]
  },
  {
   "cell_type": "markdown",
   "metadata": {},
   "source": [
    "# Integration\n",
    "\n",
    "Batch correction is referred to as integration in the single-cell literature. This is, because the count matrices are too large for performing actual batch correction. Instead, the data is integrated into a lower-dimensional space, where the batch effects are removed."
   ]
  },
  {
   "cell_type": "markdown",
   "metadata": {},
   "source": [
    "## scVI\n",
    "\n",
    "scVI uses a variational Autoencoder to integrate the data. The encoder learns a lower-dimensional representation of the data, while the decoder learns to reconstruct the data from this representation."
   ]
  },
  {
   "cell_type": "code",
   "execution_count": 7,
   "metadata": {},
   "outputs": [
    {
     "name": "stderr",
     "output_type": "stream",
     "text": [
      "  0%|          | 0/3 [00:00<?, ?it/s]Trainer will use only 1 of 3 GPUs because it is running inside an interactive / notebook environment. You may try to set `Trainer(devices=3)` but please note that multi-GPU inside interactive / notebook environments is considered experimental and unstable. Your mileage may vary.\n",
      "GPU available: True (cuda), used: True\n",
      "TPU available: False, using: 0 TPU cores\n",
      "HPU available: False, using: 0 HPUs\n",
      "You are using a CUDA device ('NVIDIA A40') that has Tensor Cores. To properly utilize them, you should set `torch.set_float32_matmul_precision('medium' | 'high')` which will trade-off precision for performance. For more details, read https://pytorch.org/docs/stable/generated/torch.set_float32_matmul_precision.html#torch.set_float32_matmul_precision\n"
     ]
    },
    {
     "name": "stdout",
     "output_type": "stream",
     "text": [
      "Running scVI for rr_incl\n"
     ]
    },
    {
     "name": "stderr",
     "output_type": "stream",
     "text": [
      "LOCAL_RANK: 0 - CUDA_VISIBLE_DEVICES: [0,1,2]\n"
     ]
    },
    {
     "data": {
      "application/vnd.jupyter.widget-view+json": {
       "model_id": "9b1fb734d3bc42a5b876b37be4382e9e",
       "version_major": 2,
       "version_minor": 0
      },
      "text/plain": [
       "Training:   0%|          | 0/400 [00:00<?, ?it/s]"
      ]
     },
     "metadata": {},
     "output_type": "display_data"
    },
    {
     "name": "stdout",
     "output_type": "stream",
     "text": [
      "Monitored metric elbo_validation did not improve in the last 45 records. Best score: 1535.078. Signaling Trainer to stop.\n"
     ]
    },
    {
     "name": "stderr",
     "output_type": "stream",
     "text": [
      " 33%|███▎      | 1/3 [01:00<02:01, 60.86s/it]Trainer will use only 1 of 3 GPUs because it is running inside an interactive / notebook environment. You may try to set `Trainer(devices=3)` but please note that multi-GPU inside interactive / notebook environments is considered experimental and unstable. Your mileage may vary.\n",
      "GPU available: True (cuda), used: True\n",
      "TPU available: False, using: 0 TPU cores\n",
      "HPU available: False, using: 0 HPUs\n",
      "LOCAL_RANK: 0 - CUDA_VISIBLE_DEVICES: [0,1,2]\n"
     ]
    },
    {
     "name": "stdout",
     "output_type": "stream",
     "text": [
      "Running scVI for combined\n"
     ]
    },
    {
     "data": {
      "application/vnd.jupyter.widget-view+json": {
       "model_id": "b4f8766867044c998db2f3100c3d2c27",
       "version_major": 2,
       "version_minor": 0
      },
      "text/plain": [
       "Training:   0%|          | 0/400 [00:00<?, ?it/s]"
      ]
     },
     "metadata": {},
     "output_type": "display_data"
    },
    {
     "name": "stdout",
     "output_type": "stream",
     "text": [
      "Monitored metric elbo_validation did not improve in the last 45 records. Best score: 2347.248. Signaling Trainer to stop.\n"
     ]
    },
    {
     "name": "stderr",
     "output_type": "stream",
     "text": [
      " 67%|██████▋   | 2/3 [02:40<01:23, 83.41s/it]Trainer will use only 1 of 3 GPUs because it is running inside an interactive / notebook environment. You may try to set `Trainer(devices=3)` but please note that multi-GPU inside interactive / notebook environments is considered experimental and unstable. Your mileage may vary.\n",
      "GPU available: True (cuda), used: True\n",
      "TPU available: False, using: 0 TPU cores\n",
      "HPU available: False, using: 0 HPUs\n",
      "LOCAL_RANK: 0 - CUDA_VISIBLE_DEVICES: [0,1,2]\n"
     ]
    },
    {
     "name": "stdout",
     "output_type": "stream",
     "text": [
      "Running scVI for rr_depl\n"
     ]
    },
    {
     "data": {
      "application/vnd.jupyter.widget-view+json": {
       "model_id": "f799d39629424186ae2eda2006f08b2b",
       "version_major": 2,
       "version_minor": 0
      },
      "text/plain": [
       "Training:   0%|          | 0/400 [00:00<?, ?it/s]"
      ]
     },
     "metadata": {},
     "output_type": "display_data"
    },
    {
     "name": "stdout",
     "output_type": "stream",
     "text": [
      "Monitored metric elbo_validation did not improve in the last 45 records. Best score: 2423.047. Signaling Trainer to stop.\n"
     ]
    },
    {
     "name": "stderr",
     "output_type": "stream",
     "text": [
      "100%|██████████| 3/3 [04:24<00:00, 88.29s/it]\n"
     ]
    }
   ],
   "source": [
    "scvi_dir = os.path.join(outdir, \"scvi\")\n",
    "for sample_type, adata in tqdm(type_hvg.items()):\n",
    "    print(f\"Running scVI for {sample_type}\")\n",
    "    sample_dir = os.path.join(scvi_dir, sample_type)\n",
    "    os.makedirs(sample_dir, exist_ok=True)\n",
    "    scvi.model.SCVI.setup_anndata(adata, batch_key=\"sample\", layer=\"count\", categorical_covariate_keys=[\"facs_day\"])\n",
    "    model = scvi.model.SCVI(adata)\n",
    "    model.train(max_epochs=400, early_stopping=True, datasplitter_kwargs={\"drop_last\": True})\n",
    "\n",
    "    adata.obsm[\"X_scvi\"] = model.get_latent_representation()\n",
    "\n",
    "    # Plot the UMAP based on the scVI latent space\n",
    "    sc.pp.neighbors(adata, use_rep=\"X_scvi\")\n",
    "    sc.tl.umap(adata)\n",
    "    adata.obsm[\"X_umap_scvi\"] = adata.obsm[\"X_umap\"].copy()\n",
    "\n",
    "    for coloring in umap_colorings:\n",
    "        fig, ax = plt.subplots()\n",
    "        sc.pl.umap(adata, color=coloring, title=f\"scVI {sample_type}\", ax=ax, show=False)\n",
    "        fig.tight_layout()\n",
    "        fig.savefig(os.path.join(sample_dir, f\"umap_{coloring}.png\"))\n",
    "        plt.close(fig)"
   ]
  },
  {
   "cell_type": "markdown",
   "metadata": {},
   "source": [
    "While the cell types still separate in the UMAP, the batch effects are removed. This indicates that scVI has successfully integrated the data.\n",
    "However it looks overcorrected, as subpopulations are not as clearly separated as in the uncorrected data."
   ]
  },
  {
   "cell_type": "markdown",
   "metadata": {},
   "source": [
    "## Harmony\n",
    "\n",
    "Harmony receives a PCA representation of the data and removes the batch effects from there.\n",
    "Benchmarks have shown that Harmony is one of the best batch correction methods for single-cell data."
   ]
  },
  {
   "cell_type": "code",
   "execution_count": 8,
   "metadata": {},
   "outputs": [
    {
     "name": "stderr",
     "output_type": "stream",
     "text": [
      "  0%|          | 0/3 [00:00<?, ?it/s]2025-03-11 11:10:55,669 - harmonypy - INFO - Computing initial centroids with sklearn.KMeans...\n"
     ]
    },
    {
     "name": "stdout",
     "output_type": "stream",
     "text": [
      "Running Harmony for rr_incl\n"
     ]
    },
    {
     "name": "stderr",
     "output_type": "stream",
     "text": [
      "2025-03-11 11:10:55,951 - harmonypy - INFO - sklearn.KMeans initialization complete.\n",
      "2025-03-11 11:10:55,959 - harmonypy - INFO - Iteration 1 of 50\n",
      "2025-03-11 11:10:56,434 - harmonypy - INFO - Iteration 2 of 50\n",
      "2025-03-11 11:10:56,977 - harmonypy - INFO - Iteration 3 of 50\n",
      "2025-03-11 11:10:57,564 - harmonypy - INFO - Iteration 4 of 50\n",
      "2025-03-11 11:10:58,228 - harmonypy - INFO - Converged after 4 iterations\n",
      " 33%|███▎      | 1/3 [00:06<00:12,  6.45s/it]2025-03-11 11:11:02,056 - harmonypy - INFO - Computing initial centroids with sklearn.KMeans...\n"
     ]
    },
    {
     "name": "stdout",
     "output_type": "stream",
     "text": [
      "Running Harmony for combined\n"
     ]
    },
    {
     "name": "stderr",
     "output_type": "stream",
     "text": [
      "2025-03-11 11:11:02,436 - harmonypy - INFO - sklearn.KMeans initialization complete.\n",
      "2025-03-11 11:11:02,453 - harmonypy - INFO - Iteration 1 of 50\n",
      "2025-03-11 11:11:03,292 - harmonypy - INFO - Iteration 2 of 50\n",
      "2025-03-11 11:11:04,212 - harmonypy - INFO - Iteration 3 of 50\n",
      "2025-03-11 11:11:05,347 - harmonypy - INFO - Iteration 4 of 50\n",
      "2025-03-11 11:11:06,291 - harmonypy - INFO - Iteration 5 of 50\n",
      "2025-03-11 11:11:07,168 - harmonypy - INFO - Iteration 6 of 50\n",
      "2025-03-11 11:11:08,239 - harmonypy - INFO - Iteration 7 of 50\n",
      "2025-03-11 11:11:09,425 - harmonypy - INFO - Converged after 7 iterations\n",
      " 67%|██████▋   | 2/3 [00:19<00:10, 10.16s/it]2025-03-11 11:11:14,817 - harmonypy - INFO - Computing initial centroids with sklearn.KMeans...\n"
     ]
    },
    {
     "name": "stdout",
     "output_type": "stream",
     "text": [
      "Running Harmony for rr_depl\n"
     ]
    },
    {
     "name": "stderr",
     "output_type": "stream",
     "text": [
      "2025-03-11 11:11:15,278 - harmonypy - INFO - sklearn.KMeans initialization complete.\n",
      "2025-03-11 11:11:15,292 - harmonypy - INFO - Iteration 1 of 50\n",
      "2025-03-11 11:11:16,157 - harmonypy - INFO - Iteration 2 of 50\n",
      "2025-03-11 11:11:17,173 - harmonypy - INFO - Iteration 3 of 50\n",
      "2025-03-11 11:11:18,322 - harmonypy - INFO - Iteration 4 of 50\n",
      "2025-03-11 11:11:19,540 - harmonypy - INFO - Iteration 5 of 50\n",
      "2025-03-11 11:11:20,673 - harmonypy - INFO - Iteration 6 of 50\n",
      "2025-03-11 11:11:21,514 - harmonypy - INFO - Iteration 7 of 50\n",
      "2025-03-11 11:11:22,111 - harmonypy - INFO - Iteration 8 of 50\n",
      "2025-03-11 11:11:23,156 - harmonypy - INFO - Iteration 9 of 50\n",
      "2025-03-11 11:11:24,358 - harmonypy - INFO - Iteration 10 of 50\n",
      "2025-03-11 11:11:25,709 - harmonypy - INFO - Iteration 11 of 50\n",
      "2025-03-11 11:11:27,058 - harmonypy - INFO - Iteration 12 of 50\n",
      "2025-03-11 11:11:28,484 - harmonypy - INFO - Iteration 13 of 50\n",
      "2025-03-11 11:11:29,554 - harmonypy - INFO - Iteration 14 of 50\n",
      "2025-03-11 11:11:30,073 - harmonypy - INFO - Iteration 15 of 50\n",
      "2025-03-11 11:11:30,652 - harmonypy - INFO - Iteration 16 of 50\n",
      "2025-03-11 11:11:31,129 - harmonypy - INFO - Iteration 17 of 50\n",
      "2025-03-11 11:11:31,725 - harmonypy - INFO - Converged after 17 iterations\n",
      "100%|██████████| 3/3 [00:41<00:00, 13.80s/it]\n"
     ]
    }
   ],
   "source": [
    "harmony_dir = os.path.join(outdir, \"harmony\")\n",
    "\n",
    "for sample_type, adata in tqdm(type_adata.items()):\n",
    "    print(f\"Running Harmony for {sample_type}\")\n",
    "    sample_dir = os.path.join(harmony_dir, sample_type)\n",
    "    os.makedirs(sample_dir, exist_ok=True)\n",
    "\n",
    "    sc.external.pp.harmony_integrate(adata, \"sample\", max_iter_harmony=50)\n",
    "\n",
    "    sc.pp.neighbors(adata, use_rep=\"X_pca_harmony\")\n",
    "    sc.tl.umap(adata)\n",
    "    adata.obsm[\"X_umap_harmony\"] = adata.obsm[\"X_umap\"].copy()\n",
    "\n",
    "    for coloring in umap_colorings:\n",
    "        fig, ax = plt.subplots()\n",
    "        sc.pl.umap(adata, color=coloring, title=f\"Harmony {sample_type}\", ax=ax, show=False)\n",
    "        fig.tight_layout()\n",
    "        fig.savefig(os.path.join(sample_dir, f\"umap_{coloring}.png\"))\n",
    "        plt.close(fig)"
   ]
  },
  {
   "cell_type": "markdown",
   "metadata": {},
   "source": [
    "Here, cell types also separate in the UMAP. Some samples are still clustered, but the batch effects are mostly removed.\n",
    "This is probably a good compromise between removing batch effects and keeping the biological signal."
   ]
  },
  {
   "cell_type": "markdown",
   "metadata": {},
   "source": [
    "# Save the data"
   ]
  },
  {
   "cell_type": "code",
   "execution_count": 9,
   "metadata": {},
   "outputs": [
    {
     "name": "stderr",
     "output_type": "stream",
     "text": [
      "100%|██████████| 3/3 [00:08<00:00,  2.92s/it]\n"
     ]
    }
   ],
   "source": [
    "for sample_type, adata in tqdm(type_adata.items()):\n",
    "    adata_hvg = type_hvg[sample_type]\n",
    "    adata.obsm[\"X_scvi\"] = adata_hvg.obsm[\"X_scvi\"]\n",
    "    adata.obsm[\"X_umap_scvi\"] = adata_hvg.obsm[\"X_umap_scvi\"]\n",
    "    adata.write_h5ad(f\"2_integration_{sample_type}.h5ad\")"
   ]
  },
  {
   "cell_type": "markdown",
   "metadata": {},
   "source": [
    "# Integration benchmarking using scIB"
   ]
  },
  {
   "cell_type": "markdown",
   "metadata": {},
   "source": [
    "embeddings = [\"X_pca\", \"X_pca_harmony\"]\n",
    "\n",
    "results = []\n",
    "\n",
    "for embedding in embeddings:\n",
    "    result = scib.me.metrics(adata.raw.to_adata(),\n",
    "        adata,\n",
    "        \"sample\",\n",
    "        \"cell_type\",\n",
    "        embed=embedding,\n",
    "        organism='mouse',\n",
    "        ari_=True,\n",
    "        nmi_=True,\n",
    "        silhouette_=True,\n",
    "        pcr_=False,\n",
    "        cell_cycle_=False,\n",
    "        hvg_score_=False,\n",
    "        isolated_labels_=True,\n",
    "        graph_conn_=True,\n",
    "        trajectory_=False,\n",
    "        kBET_=False,\n",
    "        lisi_graph_=True\n",
    "    )\n",
    "\n",
    "    result.columns = [embedding]\n",
    "    results.append(result)"
   ]
  },
  {
   "cell_type": "markdown",
   "metadata": {},
   "source": [
    "df_scib = pd.concat(results, axis=1)\n",
    "df_scib.dropna(axis=0, how='all', inplace=True)\n",
    "df_scib.plot(kind='bar', figsize=(10, 5))"
   ]
  },
  {
   "cell_type": "markdown",
   "metadata": {},
   "source": [
    "# Save the data"
   ]
  },
  {
   "cell_type": "code",
   "execution_count": 10,
   "metadata": {},
   "outputs": [
    {
     "data": {
      "text/plain": [
       "AnnData object with n_obs × n_vars = 3622 × 29459\n",
       "    obs: 'sample', 'sample_type', 'barcode', 'well_position', 'well_row', 'well_column', 'cell_type', 'n_genes_by_counts', 'log1p_n_genes_by_counts', 'total_counts', 'log1p_total_counts', 'pct_counts_in_top_50_genes', 'pct_counts_in_top_100_genes', 'pct_counts_in_top_200_genes', 'pct_counts_in_top_500_genes', 'total_counts_mt', 'log1p_total_counts_mt', 'pct_counts_mt', 'total_counts_rRNA', 'log1p_total_counts_rRNA', 'pct_counts_rRNA', 'total_counts_lncRNA', 'log1p_total_counts_lncRNA', 'pct_counts_lncRNA', 'n_genes', 'doublet_score', 'predicted_doublet', 'sample_group', 'facs_day', 'S_score', 'G2M_score', 'phase'\n",
       "    var: 'gene_ids', 'feature_types', 'gene_symbol', 'gene_versions', 'gene_type', 'mt', 'rRNA', 'lncRNA', 'n_cells_by_counts', 'mean_counts', 'log1p_mean_counts', 'pct_dropout_by_counts', 'total_counts', 'log1p_total_counts', 'n_cells', 'highly_variable', 'means', 'dispersions', 'dispersions_norm', 'highly_variable_nbatches', 'highly_variable_intersection'\n",
       "    uns: 'log1p', 'scrublet', 'hvg', 'pca', 'neighbors', 'umap', 'sample_colors', 'cell_type_colors', 'facs_day_colors', 'phase_colors'\n",
       "    obsm: 'X_pca', 'X_umap', 'X_pca_harmony', 'X_umap_harmony', 'X_scvi', 'X_umap_scvi'\n",
       "    varm: 'PCs'\n",
       "    layers: 'ambiguous', 'count', 'log1p', 'spliced', 'unspliced'\n",
       "    obsp: 'distances', 'connectivities'"
      ]
     },
     "execution_count": 10,
     "metadata": {},
     "output_type": "execute_result"
    }
   ],
   "source": [
    "adata"
   ]
  },
  {
   "cell_type": "code",
   "execution_count": 11,
   "metadata": {},
   "outputs": [],
   "source": [
    "adata.write(\"2_integrate.h5ad\")"
   ]
  }
 ],
 "metadata": {
  "kernelspec": {
   "display_name": "sc-gpu",
   "language": "python",
   "name": "python3"
  },
  "language_info": {
   "codemirror_mode": {
    "name": "ipython",
    "version": 3
   },
   "file_extension": ".py",
   "mimetype": "text/x-python",
   "name": "python",
   "nbconvert_exporter": "python",
   "pygments_lexer": "ipython3",
   "version": "3.12.3"
  }
 },
 "nbformat": 4,
 "nbformat_minor": 2
}
