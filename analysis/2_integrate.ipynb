{
 "cells": [
  {
   "cell_type": "code",
   "execution_count": 1,
   "metadata": {},
   "outputs": [],
   "source": [
    "import warnings\n",
    "\n",
    "# Ignore future warnings\n",
    "warnings.filterwarnings(\"ignore\")\n",
    "\n",
    "import os\n",
    "import pandas as pd\n",
    "import scanpy as sc\n",
    "import scvi\n",
    "import scib\n",
    "from tqdm import tqdm\n",
    "\n",
    "# Set global matplotlib figure size\n",
    "import matplotlib.pyplot as plt\n",
    "plt.rcParams['figure.figsize'] = [8, 8]\n",
    "\n",
    "# Ignore future warnings\n",
    "warnings.filterwarnings(\"ignore\")"
   ]
  },
  {
   "cell_type": "code",
   "execution_count": 2,
   "metadata": {},
   "outputs": [],
   "source": [
    "outdir = \"figures/integration\"\n",
    "os.makedirs(outdir, exist_ok=True)"
   ]
  },
  {
   "cell_type": "code",
   "execution_count": 3,
   "metadata": {},
   "outputs": [
    {
     "data": {
      "text/plain": [
       "AnnData object with n_obs × n_vars = 10903 × 29620\n",
       "    obs: 'sample', 'sample_type', 'barcode', 'well_position', 'well_row', 'well_column', 'cell_type', 'n_genes_by_counts', 'log1p_n_genes_by_counts', 'total_counts', 'log1p_total_counts', 'pct_counts_in_top_50_genes', 'pct_counts_in_top_100_genes', 'pct_counts_in_top_200_genes', 'pct_counts_in_top_500_genes', 'total_counts_mt', 'log1p_total_counts_mt', 'pct_counts_mt', 'n_genes', 'doublet_score', 'predicted_doublet', 'sample_group', 'facs_day'\n",
       "    var: 'gene_ids', 'feature_types', 'gene_symbol', 'gene_versions', 'mt', 'n_cells_by_counts', 'mean_counts', 'log1p_mean_counts', 'pct_dropout_by_counts', 'total_counts', 'log1p_total_counts', 'n_cells'\n",
       "    uns: 'log1p', 'scrublet'\n",
       "    layers: 'ambiguous', 'count', 'log1p', 'spliced', 'unspliced'"
      ]
     },
     "execution_count": 3,
     "metadata": {},
     "output_type": "execute_result"
    }
   ],
   "source": [
    "adata = sc.read_h5ad(\"1_qc.h5ad\")\n",
    "adata"
   ]
  },
  {
   "cell_type": "code",
   "execution_count": 4,
   "metadata": {},
   "outputs": [],
   "source": [
    "# Specify which colorings to use for plotting\n",
    "umap_colorings = [\n",
    "    \"sample\",\n",
    "    \"cell_type\",\n",
    "    \"facs_day\"\n",
    "]"
   ]
  },
  {
   "cell_type": "markdown",
   "metadata": {},
   "source": [
    "# Data preparation"
   ]
  },
  {
   "cell_type": "code",
   "execution_count": 5,
   "metadata": {},
   "outputs": [],
   "source": [
    "# For now, we ignore RR cells\n",
    "# They have a different gene expression profile\n",
    "# Not sure how to deal with them yet (and what we want to learn from them)\n",
    "adata = adata[adata.obs[\"sample_group\"].notnull()].copy()\n",
    "sample_types = adata.obs[\"sample_type\"].unique()\n",
    "\n",
    "type_adata = {\n",
    "    sample_type: adata[adata.obs[\"sample_type\"] == sample_type].copy()\n",
    "    for sample_type in sample_types\n",
    "}\n",
    "\n",
    "type_hvg = {}\n",
    "\n",
    "for sample_type, adata in type_adata.items():\n",
    "    sc.pp.highly_variable_genes(adata, n_top_genes=5000, batch_key=\"sample\", layer=\"log1p\")\n",
    "    type_hvg[sample_type] = adata[:, adata.var.highly_variable].copy()"
   ]
  },
  {
   "cell_type": "markdown",
   "metadata": {},
   "source": [
    "## Looking at the uncorrected data distributions"
   ]
  },
  {
   "cell_type": "code",
   "execution_count": 6,
   "metadata": {},
   "outputs": [
    {
     "name": "stderr",
     "output_type": "stream",
     "text": [
      "100%|██████████| 3/3 [00:19<00:00,  6.47s/it]\n"
     ]
    }
   ],
   "source": [
    "unintegrated_dir = os.path.join(outdir, \"unintegrated\")\n",
    "for sample_type, adata in tqdm(type_adata.items()):\n",
    "    sample_dir = os.path.join(unintegrated_dir, sample_type)\n",
    "    os.makedirs(sample_dir, exist_ok=True)\n",
    "    sc.pp.pca(adata, n_comps=50, layer=\"log1p\")\n",
    "    sc.pp.neighbors(adata)\n",
    "    sc.tl.umap(adata)\n",
    "    for coloring in umap_colorings:\n",
    "        fig, ax = plt.subplots()\n",
    "        sc.pl.umap(adata, color=coloring, title=f\"Uncorrected {sample_type}\", ax=ax, show=False)\n",
    "        fig.tight_layout()\n",
    "        fig.savefig(os.path.join(sample_dir, f\"umap_{coloring}.png\"))\n",
    "        plt.close(fig)"
   ]
  },
  {
   "cell_type": "markdown",
   "metadata": {},
   "source": [
    "We can see that the samples form clusters in the UMAP. This indicates that the batch effects are not negligible.\n",
    "We can also see that the cell types separate in the UMAP. \n",
    "Biological signal and batch effects appear to be of similar strength in this data."
   ]
  },
  {
   "cell_type": "markdown",
   "metadata": {},
   "source": [
    "# Integration\n",
    "\n",
    "Batch correction is referred to as integration in the single-cell literature. This is, because the count matrices are too large for performing actual batch correction. Instead, the data is integrated into a lower-dimensional space, where the batch effects are removed."
   ]
  },
  {
   "cell_type": "markdown",
   "metadata": {},
   "source": [
    "## scVI\n",
    "\n",
    "scVI uses a variational Autoencoder to integrate the data. The encoder learns a lower-dimensional representation of the data, while the decoder learns to reconstruct the data from this representation."
   ]
  },
  {
   "cell_type": "code",
   "execution_count": 11,
   "metadata": {},
   "outputs": [
    {
     "name": "stderr",
     "output_type": "stream",
     "text": [
      "  0%|          | 0/3 [00:00<?, ?it/s]Trainer will use only 1 of 3 GPUs because it is running inside an interactive / notebook environment. You may try to set `Trainer(devices=3)` but please note that multi-GPU inside interactive / notebook environments is considered experimental and unstable. Your mileage may vary.\n",
      "GPU available: True (cuda), used: True\n",
      "TPU available: False, using: 0 TPU cores\n",
      "HPU available: False, using: 0 HPUs\n",
      "LOCAL_RANK: 0 - CUDA_VISIBLE_DEVICES: [0,1,2]\n"
     ]
    },
    {
     "name": "stdout",
     "output_type": "stream",
     "text": [
      "Running scVI for rr_incl\n"
     ]
    },
    {
     "data": {
      "application/vnd.jupyter.widget-view+json": {
       "model_id": "1bf625222ced453693047f61a64d42e6",
       "version_major": 2,
       "version_minor": 0
      },
      "text/plain": [
       "Training:   0%|          | 0/400 [00:00<?, ?it/s]"
      ]
     },
     "metadata": {},
     "output_type": "display_data"
    },
    {
     "name": "stdout",
     "output_type": "stream",
     "text": [
      "Monitored metric elbo_validation did not improve in the last 45 records. Best score: 1628.671. Signaling Trainer to stop.\n"
     ]
    },
    {
     "name": "stderr",
     "output_type": "stream",
     "text": [
      " 33%|███▎      | 1/3 [00:55<01:50, 55.35s/it]Trainer will use only 1 of 3 GPUs because it is running inside an interactive / notebook environment. You may try to set `Trainer(devices=3)` but please note that multi-GPU inside interactive / notebook environments is considered experimental and unstable. Your mileage may vary.\n",
      "GPU available: True (cuda), used: True\n",
      "TPU available: False, using: 0 TPU cores\n",
      "HPU available: False, using: 0 HPUs\n",
      "LOCAL_RANK: 0 - CUDA_VISIBLE_DEVICES: [0,1,2]\n"
     ]
    },
    {
     "name": "stdout",
     "output_type": "stream",
     "text": [
      "Running scVI for combined\n"
     ]
    },
    {
     "data": {
      "application/vnd.jupyter.widget-view+json": {
       "model_id": "0054a977bae44bafa1bbef05072bdaf2",
       "version_major": 2,
       "version_minor": 0
      },
      "text/plain": [
       "Training:   0%|          | 0/400 [00:00<?, ?it/s]"
      ]
     },
     "metadata": {},
     "output_type": "display_data"
    },
    {
     "name": "stdout",
     "output_type": "stream",
     "text": [
      "Monitored metric elbo_validation did not improve in the last 45 records. Best score: 2548.552. Signaling Trainer to stop.\n"
     ]
    },
    {
     "name": "stderr",
     "output_type": "stream",
     "text": [
      " 67%|██████▋   | 2/3 [02:04<01:03, 63.23s/it]Trainer will use only 1 of 3 GPUs because it is running inside an interactive / notebook environment. You may try to set `Trainer(devices=3)` but please note that multi-GPU inside interactive / notebook environments is considered experimental and unstable. Your mileage may vary.\n",
      "GPU available: True (cuda), used: True\n",
      "TPU available: False, using: 0 TPU cores\n",
      "HPU available: False, using: 0 HPUs\n",
      "LOCAL_RANK: 0 - CUDA_VISIBLE_DEVICES: [0,1,2]\n"
     ]
    },
    {
     "name": "stdout",
     "output_type": "stream",
     "text": [
      "Running scVI for rr_depl\n"
     ]
    },
    {
     "data": {
      "application/vnd.jupyter.widget-view+json": {
       "model_id": "1f9be805e14a490f9234d4bdbaed4103",
       "version_major": 2,
       "version_minor": 0
      },
      "text/plain": [
       "Training:   0%|          | 0/400 [00:00<?, ?it/s]"
      ]
     },
     "metadata": {},
     "output_type": "display_data"
    },
    {
     "name": "stdout",
     "output_type": "stream",
     "text": [
      "Monitored metric elbo_validation did not improve in the last 45 records. Best score: 2407.475. Signaling Trainer to stop.\n"
     ]
    },
    {
     "name": "stderr",
     "output_type": "stream",
     "text": [
      "100%|██████████| 3/3 [03:29<00:00, 69.80s/it]\n"
     ]
    }
   ],
   "source": [
    "scvi_dir = os.path.join(outdir, \"scvi\")\n",
    "for sample_type, adata in tqdm(type_hvg.items()):\n",
    "    print(f\"Running scVI for {sample_type}\")\n",
    "    sample_dir = os.path.join(scvi_dir, sample_type)\n",
    "    os.makedirs(sample_dir, exist_ok=True)\n",
    "    scvi.model.SCVI.setup_anndata(adata, batch_key=\"sample\", layer=\"count\", categorical_covariate_keys=[\"facs_day\"])\n",
    "    model = scvi.model.SCVI(adata)\n",
    "    model.train(max_epochs=400, accelerator='cuda', early_stopping=True, datasplitter_kwargs={\"drop_last\": True})\n",
    "\n",
    "    adata.obsm[\"X_scvi\"] = model.get_latent_representation()\n",
    "\n",
    "    # Plot the UMAP based on the scVI latent space\n",
    "    sc.pp.neighbors(adata, use_rep=\"X_scvi\")\n",
    "    sc.tl.umap(adata)\n",
    "    adata.obsm[\"X_umap_scvi\"] = adata.obsm[\"X_umap\"].copy()\n",
    "\n",
    "    for coloring in umap_colorings:\n",
    "        fig, ax = plt.subplots()\n",
    "        sc.pl.umap(adata, color=coloring, title=f\"scVI {sample_type}\", ax=ax, show=False)\n",
    "        fig.tight_layout()\n",
    "        fig.savefig(os.path.join(sample_dir, f\"umap_{coloring}.png\"))\n",
    "        plt.close(fig)"
   ]
  },
  {
   "cell_type": "markdown",
   "metadata": {},
   "source": [
    "While the cell types still separate in the UMAP, the batch effects are removed. This indicates that scVI has successfully integrated the data.\n",
    "However it looks overcorrected, as subpopulations are not as clearly separated as in the uncorrected data."
   ]
  },
  {
   "cell_type": "markdown",
   "metadata": {},
   "source": [
    "## Harmony\n",
    "\n",
    "Harmony receives a PCA representation of the data and removes the batch effects from there.\n",
    "Benchmarks have shown that Harmony is one of the best batch correction methods for single-cell data."
   ]
  },
  {
   "cell_type": "code",
   "execution_count": 8,
   "metadata": {},
   "outputs": [
    {
     "name": "stderr",
     "output_type": "stream",
     "text": [
      "  0%|          | 0/3 [00:00<?, ?it/s]2025-01-22 11:18:24,191 - harmonypy - INFO - Computing initial centroids with sklearn.KMeans...\n"
     ]
    },
    {
     "name": "stdout",
     "output_type": "stream",
     "text": [
      "Running Harmony for rr_incl\n"
     ]
    },
    {
     "name": "stderr",
     "output_type": "stream",
     "text": [
      "2025-01-22 11:18:24,393 - harmonypy - INFO - sklearn.KMeans initialization complete.\n",
      "2025-01-22 11:18:24,398 - harmonypy - INFO - Iteration 1 of 50\n",
      "2025-01-22 11:18:24,832 - harmonypy - INFO - Iteration 2 of 50\n",
      "2025-01-22 11:18:25,197 - harmonypy - INFO - Iteration 3 of 50\n",
      "2025-01-22 11:18:25,534 - harmonypy - INFO - Iteration 4 of 50\n",
      "2025-01-22 11:18:25,937 - harmonypy - INFO - Iteration 5 of 50\n",
      "2025-01-22 11:18:26,320 - harmonypy - INFO - Converged after 5 iterations\n",
      " 33%|███▎      | 1/3 [00:05<00:10,  5.22s/it]2025-01-22 11:18:29,407 - harmonypy - INFO - Computing initial centroids with sklearn.KMeans...\n"
     ]
    },
    {
     "name": "stdout",
     "output_type": "stream",
     "text": [
      "Running Harmony for combined\n"
     ]
    },
    {
     "name": "stderr",
     "output_type": "stream",
     "text": [
      "2025-01-22 11:18:29,751 - harmonypy - INFO - sklearn.KMeans initialization complete.\n",
      "2025-01-22 11:18:29,759 - harmonypy - INFO - Iteration 1 of 50\n",
      "2025-01-22 11:18:30,472 - harmonypy - INFO - Iteration 2 of 50\n",
      "2025-01-22 11:18:31,131 - harmonypy - INFO - Iteration 3 of 50\n",
      "2025-01-22 11:18:31,766 - harmonypy - INFO - Iteration 4 of 50\n",
      "2025-01-22 11:18:32,457 - harmonypy - INFO - Iteration 5 of 50\n",
      "2025-01-22 11:18:33,120 - harmonypy - INFO - Iteration 6 of 50\n",
      "2025-01-22 11:18:33,433 - harmonypy - INFO - Converged after 6 iterations\n",
      " 67%|██████▋   | 2/3 [00:12<00:06,  6.61s/it]2025-01-22 11:18:36,984 - harmonypy - INFO - Computing initial centroids with sklearn.KMeans...\n"
     ]
    },
    {
     "name": "stdout",
     "output_type": "stream",
     "text": [
      "Running Harmony for rr_depl\n"
     ]
    },
    {
     "name": "stderr",
     "output_type": "stream",
     "text": [
      "2025-01-22 11:18:37,283 - harmonypy - INFO - sklearn.KMeans initialization complete.\n",
      "2025-01-22 11:18:37,291 - harmonypy - INFO - Iteration 1 of 50\n",
      "2025-01-22 11:18:37,939 - harmonypy - INFO - Iteration 2 of 50\n",
      "2025-01-22 11:18:38,508 - harmonypy - INFO - Iteration 3 of 50\n",
      "2025-01-22 11:18:39,110 - harmonypy - INFO - Iteration 4 of 50\n",
      "2025-01-22 11:18:39,734 - harmonypy - INFO - Iteration 5 of 50\n",
      "2025-01-22 11:18:40,304 - harmonypy - INFO - Iteration 6 of 50\n",
      "2025-01-22 11:18:40,666 - harmonypy - INFO - Iteration 7 of 50\n",
      "2025-01-22 11:18:40,967 - harmonypy - INFO - Iteration 8 of 50\n",
      "2025-01-22 11:18:41,255 - harmonypy - INFO - Iteration 9 of 50\n",
      "2025-01-22 11:18:41,542 - harmonypy - INFO - Converged after 9 iterations\n",
      "100%|██████████| 3/3 [00:20<00:00,  6.94s/it]\n"
     ]
    }
   ],
   "source": [
    "harmony_dir = os.path.join(outdir, \"harmony\")\n",
    "\n",
    "for sample_type, adata in tqdm(type_adata.items()):\n",
    "    print(f\"Running Harmony for {sample_type}\")\n",
    "    sample_dir = os.path.join(harmony_dir, sample_type)\n",
    "    os.makedirs(sample_dir, exist_ok=True)\n",
    "\n",
    "    sc.external.pp.harmony_integrate(adata, \"sample\", max_iter_harmony=50)\n",
    "\n",
    "    sc.pp.neighbors(adata, use_rep=\"X_pca_harmony\")\n",
    "    sc.tl.umap(adata)\n",
    "    adata.obsm[\"X_umap_harmony\"] = adata.obsm[\"X_umap\"].copy()\n",
    "\n",
    "    for coloring in umap_colorings:\n",
    "        fig, ax = plt.subplots()\n",
    "        sc.pl.umap(adata, color=coloring, title=f\"Harmony {sample_type}\", ax=ax, show=False)\n",
    "        fig.tight_layout()\n",
    "        fig.savefig(os.path.join(sample_dir, f\"umap_{coloring}.png\"))\n",
    "        plt.close(fig)"
   ]
  },
  {
   "cell_type": "markdown",
   "metadata": {},
   "source": [
    "Here, cell types also separate in the UMAP. Some samples are still clustered, but the batch effects are mostly removed.\n",
    "This is probably a good compromise between removing batch effects and keeping the biological signal."
   ]
  },
  {
   "cell_type": "markdown",
   "metadata": {},
   "source": [
    "# Integration benchmarking using scIB"
   ]
  },
  {
   "cell_type": "code",
   "execution_count": 9,
   "metadata": {},
   "outputs": [
    {
     "name": "stdout",
     "output_type": "stream",
     "text": [
      "Recompute neighbors on rep X_scvi instead of X_pca_harmony\n"
     ]
    },
    {
     "ename": "ValueError",
     "evalue": "Did not find X_scvi in `.obsm.keys()`. You need to compute it first.",
     "output_type": "error",
     "traceback": [
      "\u001b[0;31m---------------------------------------------------------------------------\u001b[0m",
      "\u001b[0;31mValueError\u001b[0m                                Traceback (most recent call last)",
      "Cell \u001b[0;32mIn[9], line 6\u001b[0m\n\u001b[1;32m      3\u001b[0m results \u001b[38;5;241m=\u001b[39m []\n\u001b[1;32m      5\u001b[0m \u001b[38;5;28;01mfor\u001b[39;00m embedding \u001b[38;5;129;01min\u001b[39;00m embeddings:\n\u001b[0;32m----> 6\u001b[0m     result \u001b[38;5;241m=\u001b[39m \u001b[43mscib\u001b[49m\u001b[38;5;241;43m.\u001b[39;49m\u001b[43mme\u001b[49m\u001b[38;5;241;43m.\u001b[39;49m\u001b[43mmetrics\u001b[49m\u001b[43m(\u001b[49m\u001b[43madata\u001b[49m\u001b[38;5;241;43m.\u001b[39;49m\u001b[43mraw\u001b[49m\u001b[38;5;241;43m.\u001b[39;49m\u001b[43mto_adata\u001b[49m\u001b[43m(\u001b[49m\u001b[43m)\u001b[49m\u001b[43m,\u001b[49m\n\u001b[1;32m      7\u001b[0m \u001b[43m        \u001b[49m\u001b[43madata\u001b[49m\u001b[43m,\u001b[49m\n\u001b[1;32m      8\u001b[0m \u001b[43m        \u001b[49m\u001b[38;5;124;43m\"\u001b[39;49m\u001b[38;5;124;43msample\u001b[39;49m\u001b[38;5;124;43m\"\u001b[39;49m\u001b[43m,\u001b[49m\n\u001b[1;32m      9\u001b[0m \u001b[43m        \u001b[49m\u001b[38;5;124;43m\"\u001b[39;49m\u001b[38;5;124;43mcell_type\u001b[39;49m\u001b[38;5;124;43m\"\u001b[39;49m\u001b[43m,\u001b[49m\n\u001b[1;32m     10\u001b[0m \u001b[43m        \u001b[49m\u001b[43membed\u001b[49m\u001b[38;5;241;43m=\u001b[39;49m\u001b[43membedding\u001b[49m\u001b[43m,\u001b[49m\n\u001b[1;32m     11\u001b[0m \u001b[43m        \u001b[49m\u001b[43morganism\u001b[49m\u001b[38;5;241;43m=\u001b[39;49m\u001b[38;5;124;43m'\u001b[39;49m\u001b[38;5;124;43mmouse\u001b[39;49m\u001b[38;5;124;43m'\u001b[39;49m\u001b[43m,\u001b[49m\n\u001b[1;32m     12\u001b[0m \u001b[43m        \u001b[49m\u001b[43mari_\u001b[49m\u001b[38;5;241;43m=\u001b[39;49m\u001b[38;5;28;43;01mTrue\u001b[39;49;00m\u001b[43m,\u001b[49m\n\u001b[1;32m     13\u001b[0m \u001b[43m        \u001b[49m\u001b[43mnmi_\u001b[49m\u001b[38;5;241;43m=\u001b[39;49m\u001b[38;5;28;43;01mTrue\u001b[39;49;00m\u001b[43m,\u001b[49m\n\u001b[1;32m     14\u001b[0m \u001b[43m        \u001b[49m\u001b[43msilhouette_\u001b[49m\u001b[38;5;241;43m=\u001b[39;49m\u001b[38;5;28;43;01mTrue\u001b[39;49;00m\u001b[43m,\u001b[49m\n\u001b[1;32m     15\u001b[0m \u001b[43m        \u001b[49m\u001b[43mpcr_\u001b[49m\u001b[38;5;241;43m=\u001b[39;49m\u001b[38;5;28;43;01mFalse\u001b[39;49;00m\u001b[43m,\u001b[49m\n\u001b[1;32m     16\u001b[0m \u001b[43m        \u001b[49m\u001b[43mcell_cycle_\u001b[49m\u001b[38;5;241;43m=\u001b[39;49m\u001b[38;5;28;43;01mFalse\u001b[39;49;00m\u001b[43m,\u001b[49m\n\u001b[1;32m     17\u001b[0m \u001b[43m        \u001b[49m\u001b[43mhvg_score_\u001b[49m\u001b[38;5;241;43m=\u001b[39;49m\u001b[38;5;28;43;01mFalse\u001b[39;49;00m\u001b[43m,\u001b[49m\n\u001b[1;32m     18\u001b[0m \u001b[43m        \u001b[49m\u001b[43misolated_labels_\u001b[49m\u001b[38;5;241;43m=\u001b[39;49m\u001b[38;5;28;43;01mTrue\u001b[39;49;00m\u001b[43m,\u001b[49m\n\u001b[1;32m     19\u001b[0m \u001b[43m        \u001b[49m\u001b[43mgraph_conn_\u001b[49m\u001b[38;5;241;43m=\u001b[39;49m\u001b[38;5;28;43;01mTrue\u001b[39;49;00m\u001b[43m,\u001b[49m\n\u001b[1;32m     20\u001b[0m \u001b[43m        \u001b[49m\u001b[43mtrajectory_\u001b[49m\u001b[38;5;241;43m=\u001b[39;49m\u001b[38;5;28;43;01mFalse\u001b[39;49;00m\u001b[43m,\u001b[49m\n\u001b[1;32m     21\u001b[0m \u001b[43m        \u001b[49m\u001b[43mkBET_\u001b[49m\u001b[38;5;241;43m=\u001b[39;49m\u001b[38;5;28;43;01mFalse\u001b[39;49;00m\u001b[43m,\u001b[49m\n\u001b[1;32m     22\u001b[0m \u001b[43m        \u001b[49m\u001b[43mlisi_graph_\u001b[49m\u001b[38;5;241;43m=\u001b[39;49m\u001b[38;5;28;43;01mTrue\u001b[39;49;00m\n\u001b[1;32m     23\u001b[0m \u001b[43m    \u001b[49m\u001b[43m)\u001b[49m\n\u001b[1;32m     25\u001b[0m     result\u001b[38;5;241m.\u001b[39mcolumns \u001b[38;5;241m=\u001b[39m [embedding]\n\u001b[1;32m     26\u001b[0m     results\u001b[38;5;241m.\u001b[39mappend(result)\n",
      "File \u001b[0;32m~/.conda/envs/sc-gpu/lib/python3.12/site-packages/scib/metrics/metrics.py:293\u001b[0m, in \u001b[0;36mmetrics\u001b[0;34m(adata, adata_int, batch_key, label_key, embed, cluster_key, cluster_nmi, ari_, nmi_, nmi_method, nmi_dir, silhouette_, si_metric, pcr_, cell_cycle_, organism, hvg_score_, isolated_labels_, isolated_labels_f1_, isolated_labels_asw_, n_isolated, graph_conn_, trajectory_, kBET_, lisi_graph_, ilisi_, clisi_, subsample, n_cores, type_, verbose)\u001b[0m\n\u001b[1;32m    291\u001b[0m \u001b[38;5;66;03m# clustering\u001b[39;00m\n\u001b[1;32m    292\u001b[0m \u001b[38;5;28;01mif\u001b[39;00m nmi_ \u001b[38;5;129;01mor\u001b[39;00m ari_:\n\u001b[0;32m--> 293\u001b[0m     res_max, nmi_max, nmi_all \u001b[38;5;241m=\u001b[39m \u001b[43mcluster_optimal_resolution\u001b[49m\u001b[43m(\u001b[49m\n\u001b[1;32m    294\u001b[0m \u001b[43m        \u001b[49m\u001b[43madata_int\u001b[49m\u001b[43m,\u001b[49m\n\u001b[1;32m    295\u001b[0m \u001b[43m        \u001b[49m\u001b[43mlabel_key\u001b[49m\u001b[38;5;241;43m=\u001b[39;49m\u001b[43mlabel_key\u001b[49m\u001b[43m,\u001b[49m\n\u001b[1;32m    296\u001b[0m \u001b[43m        \u001b[49m\u001b[43mcluster_key\u001b[49m\u001b[38;5;241;43m=\u001b[39;49m\u001b[43mcluster_key\u001b[49m\u001b[43m,\u001b[49m\n\u001b[1;32m    297\u001b[0m \u001b[43m        \u001b[49m\u001b[43mmetric\u001b[49m\u001b[38;5;241;43m=\u001b[39;49m\u001b[43mnmi\u001b[49m\u001b[43m,\u001b[49m\n\u001b[1;32m    298\u001b[0m \u001b[43m        \u001b[49m\u001b[43muse_rep\u001b[49m\u001b[38;5;241;43m=\u001b[39;49m\u001b[43membed\u001b[49m\u001b[43m,\u001b[49m\n\u001b[1;32m    299\u001b[0m \u001b[43m        \u001b[49m\u001b[43mforce\u001b[49m\u001b[38;5;241;43m=\u001b[39;49m\u001b[38;5;28;43;01mTrue\u001b[39;49;00m\u001b[43m,\u001b[49m\n\u001b[1;32m    300\u001b[0m \u001b[43m        \u001b[49m\u001b[43mverbose\u001b[49m\u001b[38;5;241;43m=\u001b[39;49m\u001b[43mverbose\u001b[49m\u001b[43m,\u001b[49m\n\u001b[1;32m    301\u001b[0m \u001b[43m        \u001b[49m\u001b[43mreturn_all\u001b[49m\u001b[38;5;241;43m=\u001b[39;49m\u001b[38;5;28;43;01mTrue\u001b[39;49;00m\u001b[43m,\u001b[49m\n\u001b[1;32m    302\u001b[0m \u001b[43m    \u001b[49m\u001b[43m)\u001b[49m\n\u001b[1;32m    303\u001b[0m     \u001b[38;5;28;01mif\u001b[39;00m cluster_nmi \u001b[38;5;129;01mis\u001b[39;00m \u001b[38;5;129;01mnot\u001b[39;00m \u001b[38;5;28;01mNone\u001b[39;00m:\n\u001b[1;32m    304\u001b[0m         nmi_all\u001b[38;5;241m.\u001b[39mto_csv(cluster_nmi, header\u001b[38;5;241m=\u001b[39m\u001b[38;5;28;01mFalse\u001b[39;00m)\n",
      "File \u001b[0;32m~/.conda/envs/sc-gpu/lib/python3.12/site-packages/scib/metrics/clustering.py:123\u001b[0m, in \u001b[0;36mcluster_optimal_resolution\u001b[0;34m(adata, label_key, cluster_key, cluster_function, metric, resolutions, use_rep, force, verbose, return_all, metric_kwargs, **kwargs)\u001b[0m\n\u001b[1;32m    121\u001b[0m \u001b[38;5;66;03m# check if clustering exists\u001b[39;00m\n\u001b[1;32m    122\u001b[0m \u001b[38;5;28;01mif\u001b[39;00m resolution_key \u001b[38;5;129;01mnot\u001b[39;00m \u001b[38;5;129;01min\u001b[39;00m adata\u001b[38;5;241m.\u001b[39mobs\u001b[38;5;241m.\u001b[39mcolumns \u001b[38;5;129;01mor\u001b[39;00m force:\n\u001b[0;32m--> 123\u001b[0m     \u001b[43mcall_cluster_function\u001b[49m\u001b[43m(\u001b[49m\n\u001b[1;32m    124\u001b[0m \u001b[43m        \u001b[49m\u001b[43madata\u001b[49m\u001b[43m,\u001b[49m\u001b[43m \u001b[49m\u001b[43mres\u001b[49m\u001b[43m,\u001b[49m\u001b[43m \u001b[49m\u001b[43mresolution_key\u001b[49m\u001b[43m,\u001b[49m\u001b[43m \u001b[49m\u001b[43mcluster_function\u001b[49m\u001b[43m,\u001b[49m\u001b[43m \u001b[49m\u001b[38;5;241;43m*\u001b[39;49m\u001b[38;5;241;43m*\u001b[39;49m\u001b[43mkwargs\u001b[49m\n\u001b[1;32m    125\u001b[0m \u001b[43m    \u001b[49m\u001b[43m)\u001b[49m\n\u001b[1;32m    127\u001b[0m \u001b[38;5;66;03m# score cluster resolution\u001b[39;00m\n\u001b[1;32m    128\u001b[0m score \u001b[38;5;241m=\u001b[39m metric(adata, label_key, resolution_key, \u001b[38;5;241m*\u001b[39m\u001b[38;5;241m*\u001b[39mmetric_kwargs)\n",
      "File \u001b[0;32m~/.conda/envs/sc-gpu/lib/python3.12/site-packages/scib/metrics/clustering.py:92\u001b[0m, in \u001b[0;36mcluster_optimal_resolution.<locals>.call_cluster_function\u001b[0;34m(adata, res, resolution_key, cluster_function, **kwargs)\u001b[0m\n\u001b[1;32m     90\u001b[0m \u001b[38;5;28;01mif\u001b[39;00m use_rep \u001b[38;5;129;01mis\u001b[39;00m \u001b[38;5;129;01mnot\u001b[39;00m \u001b[38;5;28;01mNone\u001b[39;00m \u001b[38;5;129;01mand\u001b[39;00m use_rep \u001b[38;5;241m!=\u001b[39m knn_rep:\n\u001b[1;32m     91\u001b[0m     \u001b[38;5;28mprint\u001b[39m(\u001b[38;5;124mf\u001b[39m\u001b[38;5;124m\"\u001b[39m\u001b[38;5;124mRecompute neighbors on rep \u001b[39m\u001b[38;5;132;01m{\u001b[39;00muse_rep\u001b[38;5;132;01m}\u001b[39;00m\u001b[38;5;124m instead of \u001b[39m\u001b[38;5;132;01m{\u001b[39;00mknn_rep\u001b[38;5;132;01m}\u001b[39;00m\u001b[38;5;124m\"\u001b[39m)\n\u001b[0;32m---> 92\u001b[0m     \u001b[43msc\u001b[49m\u001b[38;5;241;43m.\u001b[39;49m\u001b[43mpp\u001b[49m\u001b[38;5;241;43m.\u001b[39;49m\u001b[43mneighbors\u001b[49m\u001b[43m(\u001b[49m\u001b[43madata\u001b[49m\u001b[43m,\u001b[49m\u001b[43m \u001b[49m\u001b[43muse_rep\u001b[49m\u001b[38;5;241;43m=\u001b[39;49m\u001b[43muse_rep\u001b[49m\u001b[43m)\u001b[49m\n\u001b[1;32m     94\u001b[0m \u001b[38;5;66;03m# call clustering function\u001b[39;00m\n\u001b[1;32m     95\u001b[0m \u001b[38;5;28mprint\u001b[39m(\u001b[38;5;124mf\u001b[39m\u001b[38;5;124m\"\u001b[39m\u001b[38;5;124mCluster for \u001b[39m\u001b[38;5;132;01m{\u001b[39;00mresolution_key\u001b[38;5;132;01m}\u001b[39;00m\u001b[38;5;124m with \u001b[39m\u001b[38;5;132;01m{\u001b[39;00mcluster_function\u001b[38;5;241m.\u001b[39m\u001b[38;5;18m__name__\u001b[39m\u001b[38;5;132;01m}\u001b[39;00m\u001b[38;5;124m\"\u001b[39m)\n",
      "File \u001b[0;32m~/.conda/envs/sc-gpu/lib/python3.12/site-packages/scanpy/neighbors/__init__.py:191\u001b[0m, in \u001b[0;36mneighbors\u001b[0;34m(adata, n_neighbors, n_pcs, use_rep, knn, method, transformer, metric, metric_kwds, random_state, key_added, copy)\u001b[0m\n\u001b[1;32m    189\u001b[0m     adata\u001b[38;5;241m.\u001b[39m_init_as_actual(adata\u001b[38;5;241m.\u001b[39mcopy())\n\u001b[1;32m    190\u001b[0m neighbors \u001b[38;5;241m=\u001b[39m Neighbors(adata)\n\u001b[0;32m--> 191\u001b[0m \u001b[43mneighbors\u001b[49m\u001b[38;5;241;43m.\u001b[39;49m\u001b[43mcompute_neighbors\u001b[49m\u001b[43m(\u001b[49m\n\u001b[1;32m    192\u001b[0m \u001b[43m    \u001b[49m\u001b[43mn_neighbors\u001b[49m\u001b[43m,\u001b[49m\n\u001b[1;32m    193\u001b[0m \u001b[43m    \u001b[49m\u001b[43mn_pcs\u001b[49m\u001b[38;5;241;43m=\u001b[39;49m\u001b[43mn_pcs\u001b[49m\u001b[43m,\u001b[49m\n\u001b[1;32m    194\u001b[0m \u001b[43m    \u001b[49m\u001b[43muse_rep\u001b[49m\u001b[38;5;241;43m=\u001b[39;49m\u001b[43muse_rep\u001b[49m\u001b[43m,\u001b[49m\n\u001b[1;32m    195\u001b[0m \u001b[43m    \u001b[49m\u001b[43mknn\u001b[49m\u001b[38;5;241;43m=\u001b[39;49m\u001b[43mknn\u001b[49m\u001b[43m,\u001b[49m\n\u001b[1;32m    196\u001b[0m \u001b[43m    \u001b[49m\u001b[43mmethod\u001b[49m\u001b[38;5;241;43m=\u001b[39;49m\u001b[43mmethod\u001b[49m\u001b[43m,\u001b[49m\n\u001b[1;32m    197\u001b[0m \u001b[43m    \u001b[49m\u001b[43mtransformer\u001b[49m\u001b[38;5;241;43m=\u001b[39;49m\u001b[43mtransformer\u001b[49m\u001b[43m,\u001b[49m\n\u001b[1;32m    198\u001b[0m \u001b[43m    \u001b[49m\u001b[43mmetric\u001b[49m\u001b[38;5;241;43m=\u001b[39;49m\u001b[43mmetric\u001b[49m\u001b[43m,\u001b[49m\n\u001b[1;32m    199\u001b[0m \u001b[43m    \u001b[49m\u001b[43mmetric_kwds\u001b[49m\u001b[38;5;241;43m=\u001b[39;49m\u001b[43mmetric_kwds\u001b[49m\u001b[43m,\u001b[49m\n\u001b[1;32m    200\u001b[0m \u001b[43m    \u001b[49m\u001b[43mrandom_state\u001b[49m\u001b[38;5;241;43m=\u001b[39;49m\u001b[43mrandom_state\u001b[49m\u001b[43m,\u001b[49m\n\u001b[1;32m    201\u001b[0m \u001b[43m\u001b[49m\u001b[43m)\u001b[49m\n\u001b[1;32m    203\u001b[0m \u001b[38;5;28;01mif\u001b[39;00m key_added \u001b[38;5;129;01mis\u001b[39;00m \u001b[38;5;28;01mNone\u001b[39;00m:\n\u001b[1;32m    204\u001b[0m     key_added \u001b[38;5;241m=\u001b[39m \u001b[38;5;124m\"\u001b[39m\u001b[38;5;124mneighbors\u001b[39m\u001b[38;5;124m\"\u001b[39m\n",
      "File \u001b[0;32m~/.conda/envs/sc-gpu/lib/python3.12/site-packages/scanpy/neighbors/__init__.py:575\u001b[0m, in \u001b[0;36mNeighbors.compute_neighbors\u001b[0;34m(self, n_neighbors, n_pcs, use_rep, knn, method, transformer, metric, metric_kwds, random_state)\u001b[0m\n\u001b[1;32m    573\u001b[0m \u001b[38;5;28mself\u001b[39m\u001b[38;5;241m.\u001b[39mn_neighbors \u001b[38;5;241m=\u001b[39m n_neighbors\n\u001b[1;32m    574\u001b[0m \u001b[38;5;28mself\u001b[39m\u001b[38;5;241m.\u001b[39mknn \u001b[38;5;241m=\u001b[39m knn\n\u001b[0;32m--> 575\u001b[0m X \u001b[38;5;241m=\u001b[39m \u001b[43m_choose_representation\u001b[49m\u001b[43m(\u001b[49m\u001b[38;5;28;43mself\u001b[39;49m\u001b[38;5;241;43m.\u001b[39;49m\u001b[43m_adata\u001b[49m\u001b[43m,\u001b[49m\u001b[43m \u001b[49m\u001b[43muse_rep\u001b[49m\u001b[38;5;241;43m=\u001b[39;49m\u001b[43muse_rep\u001b[49m\u001b[43m,\u001b[49m\u001b[43m \u001b[49m\u001b[43mn_pcs\u001b[49m\u001b[38;5;241;43m=\u001b[39;49m\u001b[43mn_pcs\u001b[49m\u001b[43m)\u001b[49m\n\u001b[1;32m    576\u001b[0m \u001b[38;5;28mself\u001b[39m\u001b[38;5;241m.\u001b[39m_distances \u001b[38;5;241m=\u001b[39m transformer\u001b[38;5;241m.\u001b[39mfit_transform(X)\n\u001b[1;32m    577\u001b[0m knn_indices, knn_distances \u001b[38;5;241m=\u001b[39m _get_indices_distances_from_sparse_matrix(\n\u001b[1;32m    578\u001b[0m     \u001b[38;5;28mself\u001b[39m\u001b[38;5;241m.\u001b[39m_distances, n_neighbors\n\u001b[1;32m    579\u001b[0m )\n",
      "File \u001b[0;32m~/.conda/envs/sc-gpu/lib/python3.12/site-packages/scanpy/tools/_utils.py:66\u001b[0m, in \u001b[0;36m_choose_representation\u001b[0;34m(adata, use_rep, n_pcs, silent)\u001b[0m\n\u001b[1;32m     64\u001b[0m         X \u001b[38;5;241m=\u001b[39m adata\u001b[38;5;241m.\u001b[39mX\n\u001b[1;32m     65\u001b[0m     \u001b[38;5;28;01melse\u001b[39;00m:\n\u001b[0;32m---> 66\u001b[0m         \u001b[38;5;28;01mraise\u001b[39;00m \u001b[38;5;167;01mValueError\u001b[39;00m(\n\u001b[1;32m     67\u001b[0m             \u001b[38;5;124mf\u001b[39m\u001b[38;5;124m\"\u001b[39m\u001b[38;5;124mDid not find \u001b[39m\u001b[38;5;132;01m{\u001b[39;00muse_rep\u001b[38;5;132;01m}\u001b[39;00m\u001b[38;5;124m in `.obsm.keys()`. \u001b[39m\u001b[38;5;124m\"\u001b[39m\n\u001b[1;32m     68\u001b[0m             \u001b[38;5;124m\"\u001b[39m\u001b[38;5;124mYou need to compute it first.\u001b[39m\u001b[38;5;124m\"\u001b[39m\n\u001b[1;32m     69\u001b[0m         )\n\u001b[1;32m     70\u001b[0m settings\u001b[38;5;241m.\u001b[39mverbosity \u001b[38;5;241m=\u001b[39m verbosity  \u001b[38;5;66;03m# resetting verbosity\u001b[39;00m\n\u001b[1;32m     71\u001b[0m \u001b[38;5;28;01mreturn\u001b[39;00m X\n",
      "\u001b[0;31mValueError\u001b[0m: Did not find X_scvi in `.obsm.keys()`. You need to compute it first."
     ]
    }
   ],
   "source": [
    "embeddings = [\"X_scvi\", \"X_pca_harmony\"]\n",
    "\n",
    "results = []\n",
    "\n",
    "for embedding in embeddings:\n",
    "    result = scib.me.metrics(adata.raw.to_adata(),\n",
    "        adata,\n",
    "        \"sample\",\n",
    "        \"cell_type\",\n",
    "        embed=embedding,\n",
    "        organism='mouse',\n",
    "        ari_=True,\n",
    "        nmi_=True,\n",
    "        silhouette_=True,\n",
    "        pcr_=False,\n",
    "        cell_cycle_=False,\n",
    "        hvg_score_=False,\n",
    "        isolated_labels_=True,\n",
    "        graph_conn_=True,\n",
    "        trajectory_=False,\n",
    "        kBET_=False,\n",
    "        lisi_graph_=True\n",
    "    )\n",
    "\n",
    "    result.columns = [embedding]\n",
    "    results.append(result)"
   ]
  },
  {
   "cell_type": "code",
   "execution_count": null,
   "metadata": {},
   "outputs": [
    {
     "name": "stderr",
     "output_type": "stream",
     "text": [
      "/nfs/home/students/n.trummer/.conda/envs/sc-gpu/lib/python3.12/site-packages/jupyter_client/session.py:203: DeprecationWarning: datetime.datetime.utcnow() is deprecated and scheduled for removal in a future version. Use timezone-aware objects to represent datetimes in UTC: datetime.datetime.now(datetime.UTC).\n",
      "  return datetime.utcnow().replace(tzinfo=utc)\n"
     ]
    },
    {
     "data": {
      "text/plain": [
       "<Axes: >"
      ]
     },
     "execution_count": 13,
     "metadata": {},
     "output_type": "execute_result"
    },
    {
     "data": {
      "image/png": "[encoded data removed]",
      "text/plain": [
       "<Figure size 1000x500 with 1 Axes>"
      ]
     },
     "metadata": {},
     "output_type": "display_data"
    }
   ],
   "source": [
    "df_scib = pd.concat(results, axis=1)\n",
    "df_scib.dropna(axis=0, how='all', inplace=True)\n",
    "df_scib.plot(kind='bar', figsize=(10, 5))"
   ]
  },
  {
   "cell_type": "markdown",
   "metadata": {},
   "source": [
    "# Save the data"
   ]
  },
  {
   "cell_type": "code",
   "execution_count": 14,
   "metadata": {},
   "outputs": [
    {
     "data": {
      "text/plain": [
       "AnnData object with n_obs × n_vars = 5195 × 27451\n",
       "    obs: 'sample', 'is_rr', 'barcode', 'well_position', 'well_row', 'well_column', 'cell_type', 'n_genes_by_counts', 'log1p_n_genes_by_counts', 'total_counts', 'log1p_total_counts', 'pct_counts_in_top_50_genes', 'pct_counts_in_top_100_genes', 'pct_counts_in_top_200_genes', 'pct_counts_in_top_500_genes', 'total_counts_mt', 'log1p_total_counts_mt', 'pct_counts_mt', 'n_genes', 'doublet_score', 'predicted_doublet', 'cluster_0.2', 'cluster_0.4', 'cluster_0.6', 'cluster_0.8', 'cluster_1.0', 'cluster_1.2', 'cluster_1.4', 'cluster_1.6', 'cluster_1.8', 'cluster_2.0', 'cluster', 'silhouette_temp'\n",
       "    var: 'gene_ids', 'feature_types', 'gene_symbol', 'gene_versions', 'mt', 'n_cells_by_counts', 'mean_counts', 'log1p_mean_counts', 'pct_dropout_by_counts', 'total_counts', 'log1p_total_counts', 'n_cells', 'highly_variable', 'means', 'dispersions', 'dispersions_norm', 'highly_variable_nbatches', 'highly_variable_intersection'\n",
       "    uns: 'log1p', 'scrublet', 'hvg', 'pca', 'neighbors', 'umap', 'sample_colors', 'cell_type_colors', 'cluster_0.2', 'cluster_0.4', 'cluster_0.6', 'cluster_0.8', 'cluster_1.0', 'cluster_1.2', 'cluster_1.4', 'cluster_1.6', 'cluster_1.8', 'cluster_2.0'\n",
       "    obsm: 'X_pca', 'X_umap', 'X_scvi', 'X_umap_scvi', 'X_pca_harmony', 'X_umap_harmony'\n",
       "    varm: 'PCs'\n",
       "    layers: 'ambiguous', 'count', 'log1p', 'spliced', 'unspliced'\n",
       "    obsp: 'distances', 'connectivities'"
      ]
     },
     "execution_count": 14,
     "metadata": {},
     "output_type": "execute_result"
    }
   ],
   "source": [
    "adata"
   ]
  },
  {
   "cell_type": "code",
   "execution_count": 15,
   "metadata": {},
   "outputs": [
    {
     "name": "stderr",
     "output_type": "stream",
     "text": [
      "/nfs/home/students/n.trummer/.conda/envs/sc-gpu/lib/python3.12/site-packages/jupyter_client/session.py:203: DeprecationWarning: datetime.datetime.utcnow() is deprecated and scheduled for removal in a future version. Use timezone-aware objects to represent datetimes in UTC: datetime.datetime.now(datetime.UTC).\n",
      "  return datetime.utcnow().replace(tzinfo=utc)\n"
     ]
    }
   ],
   "source": [
    "adata.write(\"2_integrate.h5ad\")"
   ]
  }
 ],
 "metadata": {
  "kernelspec": {
   "display_name": "sc-gpu",
   "language": "python",
   "name": "python3"
  },
  "language_info": {
   "codemirror_mode": {
    "name": "ipython",
    "version": 3
   },
   "file_extension": ".py",
   "mimetype": "text/x-python",
   "name": "python",
   "nbconvert_exporter": "python",
   "pygments_lexer": "ipython3",
   "version": "3.12.3"
  }
 },
 "nbformat": 4,
 "nbformat_minor": 2
}
