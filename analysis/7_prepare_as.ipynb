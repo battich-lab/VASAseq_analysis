{
 "cells": [
  {
   "cell_type": "code",
   "execution_count": 12,
   "metadata": {},
   "outputs": [],
   "source": [
    "import anndata as ad\n",
    "import scanpy as sc\n",
    "from pathlib import Path\n",
    "import pandas as pd\n",
    "from scipy.io import mmwrite"
   ]
  },
  {
   "cell_type": "code",
   "execution_count": 13,
   "metadata": {},
   "outputs": [],
   "source": [
    "outdir = Path('MARVEL')\n",
    "outdir.mkdir(exist_ok=True)"
   ]
  },
  {
   "cell_type": "code",
   "execution_count": 14,
   "metadata": {},
   "outputs": [
    {
     "data": {
      "text/plain": [
       "AnnData object with n_obs × n_vars = 3119 × 29459\n",
       "    obs: 'sample', 'sample_type', 'barcode', 'well_position', 'well_row', 'well_column', 'cell_type', 'n_genes_by_counts', 'log1p_n_genes_by_counts', 'total_counts', 'log1p_total_counts', 'pct_counts_in_top_50_genes', 'pct_counts_in_top_100_genes', 'pct_counts_in_top_200_genes', 'pct_counts_in_top_500_genes', 'total_counts_mt', 'log1p_total_counts_mt', 'pct_counts_mt', 'total_counts_rRNA', 'log1p_total_counts_rRNA', 'pct_counts_rRNA', 'total_counts_lncRNA', 'log1p_total_counts_lncRNA', 'pct_counts_lncRNA', 'n_genes', 'doublet_score', 'predicted_doublet', 'sample_group', 'facs_day'\n",
       "    var: 'gene_ids', 'feature_types', 'gene_symbol', 'gene_versions', 'gene_type', 'mt', 'rRNA', 'lncRNA', 'n_cells_by_counts', 'mean_counts', 'log1p_mean_counts', 'pct_dropout_by_counts', 'total_counts', 'log1p_total_counts', 'n_cells', 'highly_variable', 'means', 'dispersions', 'dispersions_norm', 'highly_variable_nbatches', 'highly_variable_intersection'\n",
       "    uns: 'cell_type_colors', 'facs_day_colors', 'hvg', 'log1p', 'neighbors', 'pca', 'sample_colors', 'scrublet', 'umap'\n",
       "    obsm: 'X_pca', 'X_pca_harmony', 'X_scvi', 'X_umap', 'X_umap_harmony', 'X_umap_scvi'\n",
       "    varm: 'PCs'\n",
       "    layers: 'ambiguous', 'count', 'log1p', 'spliced', 'unspliced'\n",
       "    obsp: 'connectivities', 'distances'"
      ]
     },
     "execution_count": 14,
     "metadata": {},
     "output_type": "execute_result"
    }
   ],
   "source": [
    "adata = ad.read_h5ad(\"2_integration_combined.h5ad\")\n",
    "adata.obs_names = adata.obs[\"barcode\"].astype(str) + \"_\" + adata.obs[\"sample\"].astype(str)\n",
    "adata"
   ]
  },
  {
   "cell_type": "code",
   "execution_count": 15,
   "metadata": {},
   "outputs": [
    {
     "data": {
      "text/plain": [
       "AnnData object with n_obs × n_vars = 12288 × 8035\n",
       "    obs: 'barcode', 'sample'\n",
       "    var: 'start', 'end', 'strand', 'motif', 'annotated'"
      ]
     },
     "execution_count": 15,
     "metadata": {},
     "output_type": "execute_result"
    }
   ],
   "source": [
    "adata_sj = ad.read_h5ad(\"../scribornaseq/run/results/combined/sj_raw_matrix.h5ad\")\n",
    "adata_sj"
   ]
  },
  {
   "cell_type": "code",
   "execution_count": 16,
   "metadata": {},
   "outputs": [
    {
     "data": {
      "text/plain": [
       "AnnData object with n_obs × n_vars = 3119 × 8035\n",
       "    obs: 'barcode', 'sample'\n",
       "    var: 'start', 'end', 'strand', 'motif', 'annotated'"
      ]
     },
     "execution_count": 16,
     "metadata": {},
     "output_type": "execute_result"
    }
   ],
   "source": [
    "index_intersect = adata.obs.index.intersection(adata_sj.obs.index)\n",
    "adata_sj = adata_sj[index_intersect, :].copy()\n",
    "adata_sj"
   ]
  },
  {
   "cell_type": "code",
   "execution_count": 17,
   "metadata": {},
   "outputs": [
    {
     "data": {
      "text/plain": [
       "array([[ 0,  4,  2,  0,  1,  0,  7,  0,  3,  0],\n",
       "       [ 0,  1,  2,  0,  1,  1,  3,  0,  1,  0],\n",
       "       [ 0,  8,  6,  0,  7,  0, 10,  0,  3,  0],\n",
       "       [ 0,  4,  3,  0,  2,  0,  3,  0,  1,  0],\n",
       "       [ 0,  1,  8,  0,  8,  0,  8,  0,  4,  0],\n",
       "       [ 0,  4,  6,  0,  2,  0,  6,  0,  2,  0],\n",
       "       [ 0,  9,  8,  0,  7,  0, 10,  0,  9,  0],\n",
       "       [ 0, 49, 90,  0,  0,  0,  1,  0,  1,  0],\n",
       "       [ 0,  6,  3,  0,  2,  1,  5,  0,  4,  0],\n",
       "       [ 0,  2,  2,  0,  0,  0,  0,  0,  0,  0]], dtype=int32)"
      ]
     },
     "execution_count": 17,
     "metadata": {},
     "output_type": "execute_result"
    }
   ],
   "source": [
    "adata.layers[\"count\"][:10, :10].toarray()"
   ]
  },
  {
   "cell_type": "code",
   "execution_count": 18,
   "metadata": {},
   "outputs": [
    {
     "data": {
      "text/plain": [
       "array([[ 0.        ,  1.01185293,  0.50592646,  0.        ,  0.25296323,\n",
       "         0.        ,  1.77074262,  0.        ,  0.7588897 ,  0.        ],\n",
       "       [ 0.        ,  0.3646905 ,  0.72938099,  0.        ,  0.3646905 ,\n",
       "         0.3646905 ,  1.09407149,  0.        ,  0.3646905 ,  0.        ],\n",
       "       [ 0.        ,  1.08515468,  0.81386601,  0.        ,  0.94951034,\n",
       "         0.        ,  1.35644335,  0.        ,  0.406933  ,  0.        ],\n",
       "       [ 0.        ,  2.65713832,  1.99285374,  0.        ,  1.32856916,\n",
       "         0.        ,  1.99285374,  0.        ,  0.66428458,  0.        ],\n",
       "       [ 0.        ,  0.27042927,  2.16343419,  0.        ,  2.16343419,\n",
       "         0.        ,  2.16343419,  0.        ,  1.08171709,  0.        ],\n",
       "       [ 0.        ,  1.43745704,  2.15618557,  0.        ,  0.71872852,\n",
       "         0.        ,  2.15618557,  0.        ,  0.71872852,  0.        ],\n",
       "       [ 0.        ,  1.55830125,  1.38515667,  0.        ,  1.21201209,\n",
       "         0.        ,  1.73144584,  0.        ,  1.55830125,  0.        ],\n",
       "       [ 0.        , 25.0356663 , 45.98387688,  0.        ,  0.        ,\n",
       "         0.        ,  0.51093197,  0.        ,  0.51093197,  0.        ],\n",
       "       [ 0.        ,  1.48552826,  0.74276413,  0.        ,  0.49517609,\n",
       "         0.24758804,  1.23794022,  0.        ,  0.99035218,  0.        ],\n",
       "       [ 0.        ,  5.79362881,  5.79362881,  0.        ,  0.        ,\n",
       "         0.        ,  0.        ,  0.        ,  0.        ,  0.        ]])"
      ]
     },
     "execution_count": 18,
     "metadata": {},
     "output_type": "execute_result"
    }
   ],
   "source": [
    "adata.layers[\"norm_total\"] = sc.pp.normalize_total(adata, layer=\"count\", inplace=False)[\"X\"]\n",
    "adata.layers[\"norm_total\"][:10, :10].toarray()"
   ]
  },
  {
   "cell_type": "code",
   "execution_count": 19,
   "metadata": {},
   "outputs": [],
   "source": [
    "mmwrite(outdir / \"gene_norm.mtx\", adata.layers[\"norm_total\"])\n",
    "adata.obs.to_csv(outdir / \"pheno.tsv\", sep=\"\\t\")\n",
    "adata.var.to_csv(outdir / \"genes.tsv\", sep=\"\\t\")"
   ]
  },
  {
   "cell_type": "code",
   "execution_count": 20,
   "metadata": {},
   "outputs": [],
   "source": [
    "mmwrite(outdir / \"gene_count.mtx\", adata.layers[\"count\"])"
   ]
  },
  {
   "cell_type": "code",
   "execution_count": 21,
   "metadata": {},
   "outputs": [],
   "source": [
    "mmwrite(outdir / \"sj_count.mtx\", adata_sj.X)\n",
    "adata_sj.var.to_csv(outdir / \"sj.tsv\", sep=\"\\t\")"
   ]
  },
  {
   "cell_type": "code",
   "execution_count": 22,
   "metadata": {},
   "outputs": [
    {
     "data": {
      "text/html": [
       "<div>\n",
       "<style scoped>\n",
       "    .dataframe tbody tr th:only-of-type {\n",
       "        vertical-align: middle;\n",
       "    }\n",
       "\n",
       "    .dataframe tbody tr th {\n",
       "        vertical-align: top;\n",
       "    }\n",
       "\n",
       "    .dataframe thead th {\n",
       "        text-align: right;\n",
       "    }\n",
       "</style>\n",
       "<table border=\"1\" class=\"dataframe\">\n",
       "  <thead>\n",
       "    <tr style=\"text-align: right;\">\n",
       "      <th></th>\n",
       "      <th>UMAP1</th>\n",
       "      <th>UMAP2</th>\n",
       "    </tr>\n",
       "  </thead>\n",
       "  <tbody>\n",
       "    <tr>\n",
       "      <th>AAACAGGC_combined_5</th>\n",
       "      <td>1.552624</td>\n",
       "      <td>12.190267</td>\n",
       "    </tr>\n",
       "    <tr>\n",
       "      <th>AAAGCGGA_combined_5</th>\n",
       "      <td>1.387908</td>\n",
       "      <td>8.696829</td>\n",
       "    </tr>\n",
       "    <tr>\n",
       "      <th>AAAGGCTG_combined_5</th>\n",
       "      <td>3.149166</td>\n",
       "      <td>11.693304</td>\n",
       "    </tr>\n",
       "    <tr>\n",
       "      <th>AACACGCA_combined_5</th>\n",
       "      <td>2.345846</td>\n",
       "      <td>10.873199</td>\n",
       "    </tr>\n",
       "    <tr>\n",
       "      <th>AACCCAAC_combined_5</th>\n",
       "      <td>4.195780</td>\n",
       "      <td>12.637164</td>\n",
       "    </tr>\n",
       "  </tbody>\n",
       "</table>\n",
       "</div>"
      ],
      "text/plain": [
       "                        UMAP1      UMAP2\n",
       "AAACAGGC_combined_5  1.552624  12.190267\n",
       "AAAGCGGA_combined_5  1.387908   8.696829\n",
       "AAAGGCTG_combined_5  3.149166  11.693304\n",
       "AACACGCA_combined_5  2.345846  10.873199\n",
       "AACCCAAC_combined_5  4.195780  12.637164"
      ]
     },
     "execution_count": 22,
     "metadata": {},
     "output_type": "execute_result"
    }
   ],
   "source": [
    "df_umap = pd.DataFrame(adata.obsm[\"X_umap_scvi\"], index=adata.obs_names, columns=[\"UMAP1\", \"UMAP2\"])\n",
    "df_umap.to_csv(outdir / \"umap.tsv\", sep=\"\\t\")\n",
    "df_umap.head()"
   ]
  }
 ],
 "metadata": {
  "kernelspec": {
   "display_name": "single-cell",
   "language": "python",
   "name": "python3"
  },
  "language_info": {
   "codemirror_mode": {
    "name": "ipython",
    "version": 3
   },
   "file_extension": ".py",
   "mimetype": "text/x-python",
   "name": "python",
   "nbconvert_exporter": "python",
   "pygments_lexer": "ipython3",
   "version": "3.12.7"
  }
 },
 "nbformat": 4,
 "nbformat_minor": 2
}
